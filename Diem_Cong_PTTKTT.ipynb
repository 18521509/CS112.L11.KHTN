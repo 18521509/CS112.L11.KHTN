{
  "nbformat": 4,
  "nbformat_minor": 0,
  "metadata": {
    "colab": {
      "name": "Diem_Cong_PTTKTT",
      "provenance": [],
      "collapsed_sections": [],
      "authorship_tag": "ABX9TyMVxwY2IfbMdlKABjXeNajn",
      "include_colab_link": true
    },
    "kernelspec": {
      "name": "python3",
      "display_name": "Python 3"
    }
  },
  "cells": [
    {
      "cell_type": "markdown",
      "metadata": {
        "id": "view-in-github",
        "colab_type": "text"
      },
      "source": [
        "<a href=\"https://colab.research.google.com/github/18521509/CS112.L11.KHTN/blob/master/Diem_Cong_PTTKTT.ipynb\" target=\"_parent\"><img src=\"https://colab.research.google.com/assets/colab-badge.svg\" alt=\"Open In Colab\"/></a>"
      ]
    },
    {
      "cell_type": "markdown",
      "metadata": {
        "id": "sLJ6g0Vs32y3"
      },
      "source": [
        "##Nhóm 003: Điểm ưu tiên\n",
        "\n",
        "---\n",
        "\n",
        "\n",
        "- Nguyễn Khánh Toàn - 18521509\n",
        "- Nguyễn Trần Trung - 18521555\n",
        "- Nguyễn Lâm Quỳnh - 18521326\n",
        "\n",
        "![](https://i.postimg.cc/k445hYdx/logo-uit.png)"
      ]
    },
    {
      "cell_type": "markdown",
      "metadata": {
        "id": "YkwyBZqz38n_"
      },
      "source": [
        "#E1\n",
        "\n",
        "\n",
        "---\n",
        "![](https://i.postimg.cc/B6CrTKxW/image.png)\n"
      ]
    },
    {
      "cell_type": "markdown",
      "metadata": {
        "id": "IdU255vrkjMO"
      },
      "source": [
        "#E2\n",
        "![](https://i.postimg.cc/d1knCjKW/image.png)"
      ]
    },
    {
      "cell_type": "code",
      "metadata": {
        "id": "Xsh5Smyn31qD"
      },
      "source": [
        ""
      ],
      "execution_count": null,
      "outputs": []
    }
  ]
}