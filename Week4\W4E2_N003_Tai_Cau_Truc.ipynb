{
  "nbformat": 4,
  "nbformat_minor": 0,
  "metadata": {
    "colab": {
      "name": "W4E2_N003_Tai_Cau_Truc",
      "provenance": [],
      "collapsed_sections": [],
      "authorship_tag": "ABX9TyOD0fgVzWvKR2Qxgw7biHKB",
      "include_colab_link": true
    },
    "kernelspec": {
      "name": "python3",
      "display_name": "Python 3"
    }
  },
  "cells": [
    {
      "cell_type": "markdown",
      "metadata": {
        "id": "view-in-github",
        "colab_type": "text"
      },
      "source": [
        "<a href=\"https://colab.research.google.com/github/18521509/CS112.L11.KHTN/blob/master/Week4%5CW4E2_N003_Tai_Cau_Truc.ipynb\" target=\"_parent\"><img src=\"https://colab.research.google.com/assets/colab-badge.svg\" alt=\"Open In Colab\"/></a>"
      ]
    },
    {
      "cell_type": "markdown",
      "metadata": {
        "id": "fCRKG3HqpU1S"
      },
      "source": [
        "##Nhóm 003\n",
        "\n",
        "---\n",
        "\n",
        "\n",
        "- Nguyễn Khánh Toàn - 18521509\n",
        "- Nguyễn Trần Trung - 18521555\n",
        "- Nguyễn Lâm Quỳnh - 18521326\n",
        "\n",
        "![](https://i.postimg.cc/k445hYdx/logo-uit.png)"
      ]
    },
    {
      "cell_type": "markdown",
      "metadata": {
        "id": "P61zawcJpXvn"
      },
      "source": [
        "#Đề bài: Tái cấu trúc\n",
        "\n",
        "\n",
        "---\n",
        "\n",
        "Sau thời gian làm việc tại nhà (work from home) do tình hình dịch bệnh, công ty **X** nhận thấy đây là cơ hội để thay đổi mô hình làm việc của công ty để hướng tới tính đơn giản, hiệu quả cao hơn trong công việc. Cụ thể, công ty hiện tại gồm **n** nhân viên. Có **m** quan hệ dạng ($a_i, b_i$) trong đó người $b_i$ nhận công việc từ người $a_i$ và $a_i$ chỉ đạo cho $b_i$. Mỗi nhân viên khi nhận việc có thể phân công cho những nhân viên do mình chỉ đạo. Nếu công viêc từ **a** có thể tới được **b**, ta gọi **a** là cấp trên của **b** và **b** là cấp dưới của **a**.\n",
        "\n",
        "Sau khi họp đại hội cổ ccông trực tuyến, công ty **X** quyết định thực hiện tái cấu trúc như sau:\n",
        "\n",
        "Thứ nhất, chọn ra một giám đốc, người này phải là người không có cấp trên và công việc mà người này phân công có thể tới được mọi người trong công ty;\n",
        "Những người còn lại, mỗi người sẽ chỉ còn nhận việc trực tiếp từ đúng 1 người. Để tránh xáo trộn trong hoạt động sau khi thực hiện thay đổi, với mỗi người, tập những người là cấp trên của người đó phải không thay đổi (so với trước khi thực hiện tái cấu trúc).\n",
        "Yêu cầu: Xác định công ty **X** có thể tái cấu trúc hay không, nếu không được - đưa ra thông báo “No”. Trong trường hợp có thể – đưa ra thông báo “Yes” và chỉ ra dãy số pi xác định người có quyền phân công công việc cho người $i (1 \\le i \\le n)$. Với Giám đốc $p_i$ tương ứng có giá trị là -1.\n",
        "\n",
        "Dữ liệu: Vào từ file thiết bị nhập chuẩn:\n",
        "\n",
        "Dòng đầu tiên chứa 2 số nguyên n và m ($1 \\le n, m \\le 5*10^5$),\n",
        "Dòng thứ i trong m dòng sau chứa 2 số nguyên $a_i$ và $b_i$ ($1 \\le a_i, b_i \\le n, a_i \\ne b_i$).\n",
        "Kết quả: Đưa ra thiết bị xuất chuẩn thông báo “No” hoặc “Yes”. Nếu kết quả là “Yes” – trên dòng thứ 2 đưa ra n số nguyên $p_1, p_2, . . ., p_n$ tương ứng.\n",
        "\n",
        "Ví dụ:\n",
        "\n",
        "![img](https://i.postimg.cc/j2y5hb6X/image.png)"
      ]
    },
    {
      "cell_type": "markdown",
      "metadata": {
        "id": "GX6FwV7Cqapj"
      },
      "source": [
        "#Phân tích\n",
        "- Coi công ty như một đồ thị có hướng, trong đó các cạnh biểu diễn người a giao việc cho người b.\n",
        "- Sau khi tái cơ cấu thì đồ thị sẽ trở thành một cây khung trong đó gốc là giám đốc\n",
        "- Để thoả mãn yêu cầu bài toán thì đồ thị phải đảm bảo:\n",
        "    + Là đồ thị liên thông.\n",
        "    + Tồn tại duy nhất một đỉnh mà không có cạnh nào đi tới nó, từ đỉnh đó có thể đi tới tất cả các đỉnh khác (Đây là giám đốc).\n",
        "    + Đồ thị không được chứa vòng. (chứa cạnh ngược)\n",
        "    + Đồ thị không được chứa cạnh chéo.\n",
        "\n",
        ">[Thông tin về các loại cạnh trong đồ thị](https://www.geeksforgeeks.org/tree-back-edge-and-cross-edges-in-dfs-of-graph/)\n",
        "\n"
      ]
    }
  ]
}