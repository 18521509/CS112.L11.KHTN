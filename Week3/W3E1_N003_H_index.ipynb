{
  "nbformat": 4,
  "nbformat_minor": 0,
  "metadata": {
    "colab": {
      "name": "N002_W3_E1_H_index",
      "provenance": [],
      "collapsed_sections": [],
      "authorship_tag": "ABX9TyPWLV+10GcxT+TcgdcnQwEx",
      "include_colab_link": true
    },
    "kernelspec": {
      "name": "python3",
      "display_name": "Python 3"
    }
  },
  "cells": [
    {
      "cell_type": "markdown",
      "metadata": {
        "id": "view-in-github",
        "colab_type": "text"
      },
      "source": [
        "<a href=\"https://colab.research.google.com/github/18521509/CS112.L11.KHTN/blob/master/Week3/W3E1_N003_H_index.ipynb\" target=\"_parent\"><img src=\"https://colab.research.google.com/assets/colab-badge.svg\" alt=\"Open In Colab\"/></a>"
      ]
    },
    {
      "cell_type": "markdown",
      "metadata": {
        "id": "XZLyrDgpNeLB"
      },
      "source": [
        "##Nhóm 003\n",
        "\n",
        "---\n",
        "\n",
        "\n",
        "- Nguyễn Khánh Toàn - 18521509\n",
        "- Nguyễn Trần Trung - 18521555\n",
        "- Nguyễn Lâm Quỳnh - 18521326\n",
        "\n",
        "![](https://i.postimg.cc/k445hYdx/logo-uit.png)\n"
      ]
    },
    {
      "cell_type": "markdown",
      "metadata": {
        "id": "-uXwpQCgNoZk"
      },
      "source": [
        "#Đề bài: H_Index (1s, 100MB)\n",
        "\n",
        "---\n",
        "\n",
        "\n",
        "\n",
        "Làm thế nào để đánh giá sự thành công của một nhà khoa học?  Dựa vào số bài báo được công bố hay dựa vào số lần một bài báo được trích dẫn tới ở công trình của những người khác? Cả hai tham số đó đều quan trọng.\n",
        "\n",
        "Một bài báo có điểm số trích dẫn là c nếu nó được trích dẫn tới c lần trong các công trình của những nhà khoa học khác. Một trong số các cách đánh giá sự thành công của một nhà khoa học là tính chỉ số ảnh hưởng $H\\_Index$ dựa trên sự kết hợp giữa số lượng bài báo và chỉ số trích dẫn của các bài báo đó.\n",
        "\n",
        "Chỉ số $H\\_Index$ của một nhà khoa học bằng k lớn nhất nếu người đó có k bài báo, mỗi bài có điểm số trích dẫn không nhỏ hơn k. Ví dụ, một người có 10 bài báo, mỗi bài báo được trích dẫn không dưới 10 lần thì $H\\_Index$ của người đó ít nhất là bằng 10.\n",
        "\n",
        "Một người có n bài báo, bài báo thứ i có điểm trích dẫn là $c_i, i = 1 ÷ n.$ Hãy xác định $H\\_Index$ của người đó.\n",
        "\n",
        "Dữ liệu: Vào từ thiết bị nhập chuẩn:\n",
        "\n",
        "Dòng đầu tiên chứa một số nguyên $ n\\ (1 ≤ n ≤ 5×10^5)$,\n",
        "Dòng thứ 2 chứa n số nguyên $c_1, c_2, . . ., c_n (0 ≤ c_i ≤ 10^6, i = 1 ÷ n).$\n",
        "Kết quả: Đưa ra thiết bị xuất chuẩn một số nguyên – $H\\_Index$ tìm được.\n",
        "\n",
        "Ví dụ:\n",
        "\n",
        " **Ví dụ:**\n",
        "\n",
        "| Input | Output |\n",
        "| -:- | -: |\n",
        "| 5 | 4 |\n",
        "|8 5 3 4 10 | |\n",
        "\n",
        " "
      ]
    },
    {
      "cell_type": "markdown",
      "metadata": {
        "id": "irjrBc-MQGoF"
      },
      "source": [
        "#Phân tích:\n",
        "\n",
        "---\n",
        "\n",
        "\n",
        "- Gọi $H\\_Index$ của người đó là k, danh sách các bài báo có số lần trích dẫn $\\ge k$ là $h_1,h_2,...h_k$. Ta có $min(h_1,h_2...,h_k) \\ge k$\n",
        "- Với dãy đã sắp xếp giảm dần:\n",
        "    * $H\\_Index = n\\ nếu\\ c_n \\ge n$\n",
        "    * $H\\_Index = k\\ (k<n)\\ nếu\\ c_k \\ge k\\ và\\  c_{k+1} < k+1 $\n",
        "- Chúng ta có thể thêm phần tử 0 vào cuối dãy để giảm số phép so sánh."
      ]
    },
    {
      "cell_type": "markdown",
      "metadata": {
        "id": "AXf5FOFTTdEg"
      },
      "source": [
        "#Bài làm\n",
        "\n",
        "---\n",
        "\n"
      ]
    },
    {
      "cell_type": "markdown",
      "metadata": {
        "id": "0_mWpyURTm23"
      },
      "source": [
        "##Abstraction\n",
        "- Cho dãy số nguyên $n$ phần tử $c_1,c_2,..,c_n (n \\lt 5*10^5, 0 \\lt c_i \\lt 10^6, i =1 ÷ n).$ Tìm $k$ lớn nhất sao cho có ít nhất $k$ phần tử trong dãy lớn hơn hoặc bằng $k$. "
      ]
    },
    {
      "cell_type": "markdown",
      "metadata": {
        "id": "2jJFn_CsUq7F"
      },
      "source": [
        "## Pattern Recognition\n",
        "- Sắp xếp"
      ]
    },
    {
      "cell_type": "markdown",
      "metadata": {
        "id": "xFTU7VrWU0KF"
      },
      "source": [
        "##Algorithm Design: Pseudocode\n",
        "\n",
        "\n",
        "```\n",
        "START:\n",
        "    input(n,c)\n",
        "    sort(c)\n",
        "    reverse(c)\n",
        "    c.append(0)\n",
        "    for i in range(n+1):\n",
        "        if c[i] < i then\n",
        "            k = i-1\n",
        "            break\n",
        "    ouput(k)\n",
        "END\n",
        "```\n",
        "Đánh giá:\n",
        "- Độ phức tạp thuật toán: $O(nlogn)$\n",
        "- Bộ nhớ: $O(n)$\n",
        "\n",
        "Đảm bảo thời gian chạy cho đề bài.\n"
      ]
    },
    {
      "cell_type": "markdown",
      "metadata": {
        "id": "D7Q89t5xWB5c"
      },
      "source": [
        "## Code\n",
        "Kết quả:\n",
        "![](https://i.postimg.cc/MH8gXR2P/image.png)"
      ]
    },
    {
      "cell_type": "code",
      "metadata": {
        "id": "WH1QevMut-6i"
      },
      "source": [
        "#H-index\n",
        "def solve(a,n):\n",
        "    a.sort()\n",
        "    a.reverse()\n",
        "    for i in range(n):\n",
        "        if a[i]< i+1:\n",
        "            return i\n",
        "    else:\n",
        "        return n\n",
        "\n",
        "n = int(input())\n",
        "a = list(map(int,input().split()))\n",
        "print(solve(a,n))"
      ],
      "execution_count": null,
      "outputs": []
    }
  ]
}