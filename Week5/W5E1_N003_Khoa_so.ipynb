{
  "nbformat": 4,
  "nbformat_minor": 0,
  "metadata": {
    "colab": {
      "name": "W5E1_N003_Khoa_so",
      "provenance": [],
      "collapsed_sections": [],
      "toc_visible": true,
      "authorship_tag": "ABX9TyN5kaeAKkoPdw/bXK0wUp1l",
      "include_colab_link": true
    },
    "kernelspec": {
      "name": "python3",
      "display_name": "Python 3"
    }
  },
  "cells": [
    {
      "cell_type": "markdown",
      "metadata": {
        "id": "view-in-github",
        "colab_type": "text"
      },
      "source": [
        "<a href=\"https://colab.research.google.com/github/18521509/CS112.L11.KHTN/blob/master/Week5/W5E1_N003_Khoa_so.ipynb\" target=\"_parent\"><img src=\"https://colab.research.google.com/assets/colab-badge.svg\" alt=\"Open In Colab\"/></a>"
      ]
    },
    {
      "cell_type": "markdown",
      "metadata": {
        "id": "GnV_03lOlOL3"
      },
      "source": [
        "##Nhóm 003\n",
        "\n",
        "---\n",
        "\n",
        "\n",
        "- Nguyễn Khánh Toàn - 18521509\n",
        "- Nguyễn Trần Trung - 18521555\n",
        "- Nguyễn Lâm Quỳnh - 18521326\n",
        "\n",
        "![](https://i.postimg.cc/k445hYdx/logo-uit.png)"
      ]
    },
    {
      "cell_type": "markdown",
      "metadata": {
        "id": "FHw0ZVZmlPaS"
      },
      "source": [
        "#Đề bài: KHÓA SỐ (0.15s, 100MB)\n",
        "\n",
        "Để tăng độ an toàn chống hiện tượng cướp ngân hàng ngày càng phổ biến người ta dùng khóa số với mã mở khóa đơn giản nhưng rất hiệu quả. Trên cửa ra vào hiển thị một xâu khá dài các ký tự số. Các chữ số có thể di chuyển đổi chổ cho nhau hoặc bị xóa. Muốn mở khóa người ta phải di chuyển các chữ số và trong trường hợp cần thiết – xóa vài chữ số để nhận được xâu lớn nhất thỏa mãn điều kiện đã cài đặt. Điều kiện này được thay đổi thường xuyên. Hôm nay điều kiện đó là “Số nhận được phải chia hết cho 3”. Số nhận được có thể bắt đầu bằng các chữ số 0. Xâu $“000”$ sẽ lớn hơn xâu $“00”$.\n",
        "\n",
        "Hãy xác định khóa mở cửa.\n",
        "\n",
        "Dữ liệu: Vào từ thiết bị nhập chuẩn gồm một xâu ký tự số có độ dài lớn hơn $2$ và không vượt quá $10^5$.\n",
        "\n",
        "Kết quả: Đưa ra thiết bị xuất chuẩn xâu khóa mở cửa.\n",
        "\n",
        "Ví dụ:\n",
        "\n",
        "| Input | Output |\n",
        "| :- | -: |\n",
        "| 105 | 510 |\n"
      ]
    },
    {
      "cell_type": "markdown",
      "metadata": {
        "id": "xJ-gD2D_l29j"
      },
      "source": [
        "#Bài làm\n",
        "\n",
        "\n",
        "---\n",
        "\n"
      ]
    },
    {
      "cell_type": "markdown",
      "metadata": {
        "id": "zE3hRu4Ml6I7"
      },
      "source": [
        "##Abstraction: \n",
        "\n",
        "Nhập vào một số nguyên dương, sắp xếp và loại bỏ một số chữ số sao cho số tạo ra là lớn nhất và chia hết cho 3.\n",
        "\n"
      ]
    },
    {
      "cell_type": "markdown",
      "metadata": {
        "id": "DzhL5KGHmpAD"
      },
      "source": [
        "##Pattern recognition:\n",
        "- Sắp xếp"
      ]
    },
    {
      "cell_type": "markdown",
      "metadata": {
        "id": "Lgu0nCKPm1Vo"
      },
      "source": [
        "##Thuật toán\n",
        "###Pseudocode\n",
        "- Nhập n\n",
        "- Tính S: Tổng các chữ số của n\n",
        "- Có 3 trường hợp:\n",
        "    - $S \\mod 3 = 0$: Không cần xoá chữ số nào.\n",
        "    - $S \\mod 3 = 1$:\n",
        "        - Xoá chữ số nhỏ nhất chia 3 dư 1.\n",
        "        - Nếu không tồn tại thì xoá 2 chữ số nhỏ nhất chia 3 dư 2.\n",
        "    - $S \\mod 3 = 1$:\n",
        "        - Xoá chữ số nhỏ nhất chia 3 dư 1.\n",
        "        - Nếu không tồn tại thì xoá 2 chữ số nhỏ nhất chia 3 dư 2.\n",
        "- Sắp xếp các chữ số n theo thứ tự giảm dần sử dụng counting sort với 10 index $0,1,2..9$\n",
        "- Đưa ra n là kết quả\n",
        "\n",
        "Kết quả\n",
        "\n",
        "![](https://i.postimg.cc/7L5qVNkH/image.png)\n",
        "\n"
      ]
    },
    {
      "cell_type": "markdown",
      "metadata": {
        "id": "mAcIZetVrv01"
      },
      "source": [
        "###Code"
      ]
    },
    {
      "cell_type": "code",
      "metadata": {
        "id": "LIRu5w4-ri4L"
      },
      "source": [
        "s = input().strip()\n",
        "count = [0]*10\n",
        "for i in s:\n",
        "    count[int(i)]+=1\n",
        "sum = 0\n",
        "for i in range(10):\n",
        "    sum += i*count[i]\n",
        "\n",
        "mod_1 = [] #Contain sorted digits that digit % 3 = 1\n",
        "mod_2 = [] #Contain sorted digits that digit % 3 = 2\n",
        "\n",
        "for i in range(1,9):\n",
        "    if i % 3 == 1:\n",
        "        mod_1+=[i]*count[i]\n",
        "    if i % 3 == 2:\n",
        "        mod_2+=[i]*count[i]\n",
        "\n",
        "if sum % 3 == 2:\n",
        "    if len(mod_2) > 0: \n",
        "        count[mod_2[0]] -= 1\n",
        "    else:\n",
        "        count[mod_1[0]] -= 1\n",
        "        count[mod_1[1]] -= 1\n",
        "        \n",
        "elif sum % 3 == 1:\n",
        "    if len(mod_1) > 0: \n",
        "        count[mod_1[0]] -= 1\n",
        "    else:\n",
        "        count[mod_2[0]] -= 1\n",
        "        count[mod_2[1]] -= 1\n",
        "\n",
        "s = ''\n",
        "a = list(range(10))\n",
        "a.reverse()\n",
        "for x in a:\n",
        "    s+=str(x)*count[x]\n",
        "print(s)"
      ],
      "execution_count": null,
      "outputs": []
    }
  ]
}