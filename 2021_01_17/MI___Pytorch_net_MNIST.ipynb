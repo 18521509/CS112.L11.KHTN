{
  "nbformat": 4,
  "nbformat_minor": 0,
  "metadata": {
    "accelerator": "GPU",
    "colab": {
      "name": "Copy of MI _ Pytorch net MNIST",
      "provenance": [],
      "collapsed_sections": [],
      "toc_visible": true,
      "mount_file_id": "1TFeLbOu2v7divkIuV01fUvqyA8xoXAj8",
      "authorship_tag": "ABX9TyM8Ym5HLzr9ozl6sRrBHnkP",
      "include_colab_link": true
    },
    "kernelspec": {
      "display_name": "Python 3",
      "name": "python3"
    },
    "widgets": {
      "application/vnd.jupyter.widget-state+json": {
        "614d9ca5c4a84346ab07ba4975a64003": {
          "model_module": "@jupyter-widgets/controls",
          "model_name": "HBoxModel",
          "state": {
            "_view_name": "HBoxView",
            "_dom_classes": [],
            "_model_name": "HBoxModel",
            "_view_module": "@jupyter-widgets/controls",
            "_model_module_version": "1.5.0",
            "_view_count": null,
            "_view_module_version": "1.5.0",
            "box_style": "",
            "layout": "IPY_MODEL_c8d345f007ad414a83ff6cbcb7fd5873",
            "_model_module": "@jupyter-widgets/controls",
            "children": [
              "IPY_MODEL_07cf5d394fed4c2b84d48f5bf12c7a30",
              "IPY_MODEL_39b8ac8081c94389ac75c176f552c6ea"
            ]
          }
        },
        "c8d345f007ad414a83ff6cbcb7fd5873": {
          "model_module": "@jupyter-widgets/base",
          "model_name": "LayoutModel",
          "state": {
            "_view_name": "LayoutView",
            "grid_template_rows": null,
            "right": null,
            "justify_content": null,
            "_view_module": "@jupyter-widgets/base",
            "overflow": null,
            "_model_module_version": "1.2.0",
            "_view_count": null,
            "flex_flow": null,
            "width": null,
            "min_width": null,
            "border": null,
            "align_items": null,
            "bottom": null,
            "_model_module": "@jupyter-widgets/base",
            "top": null,
            "grid_column": null,
            "overflow_y": null,
            "overflow_x": null,
            "grid_auto_flow": null,
            "grid_area": null,
            "grid_template_columns": null,
            "flex": null,
            "_model_name": "LayoutModel",
            "justify_items": null,
            "grid_row": null,
            "max_height": null,
            "align_content": null,
            "visibility": null,
            "align_self": null,
            "height": null,
            "min_height": null,
            "padding": null,
            "grid_auto_rows": null,
            "grid_gap": null,
            "max_width": null,
            "order": null,
            "_view_module_version": "1.2.0",
            "grid_template_areas": null,
            "object_position": null,
            "object_fit": null,
            "grid_auto_columns": null,
            "margin": null,
            "display": null,
            "left": null
          }
        },
        "07cf5d394fed4c2b84d48f5bf12c7a30": {
          "model_module": "@jupyter-widgets/controls",
          "model_name": "FloatProgressModel",
          "state": {
            "_view_name": "ProgressView",
            "style": "IPY_MODEL_c6d2c217b77f46239634e0f0b606faec",
            "_dom_classes": [],
            "description": "  0%",
            "_model_name": "FloatProgressModel",
            "bar_style": "",
            "max": 100,
            "_view_module": "@jupyter-widgets/controls",
            "_model_module_version": "1.5.0",
            "value": 0,
            "_view_count": null,
            "_view_module_version": "1.5.0",
            "orientation": "horizontal",
            "min": 0,
            "description_tooltip": null,
            "_model_module": "@jupyter-widgets/controls",
            "layout": "IPY_MODEL_387bdf30c09e437b8c33dca4e877b52a"
          }
        },
        "39b8ac8081c94389ac75c176f552c6ea": {
          "model_module": "@jupyter-widgets/controls",
          "model_name": "HTMLModel",
          "state": {
            "_view_name": "HTMLView",
            "style": "IPY_MODEL_2e2a60e730eb48ffafefc3690e1e7b54",
            "_dom_classes": [],
            "description": "",
            "_model_name": "HTMLModel",
            "placeholder": "​",
            "_view_module": "@jupyter-widgets/controls",
            "_model_module_version": "1.5.0",
            "value": " 0/100 [00:00&lt;?, ?it/s]",
            "_view_count": null,
            "_view_module_version": "1.5.0",
            "description_tooltip": null,
            "_model_module": "@jupyter-widgets/controls",
            "layout": "IPY_MODEL_f88fea884a1346e48097acee2bbb9f9f"
          }
        },
        "c6d2c217b77f46239634e0f0b606faec": {
          "model_module": "@jupyter-widgets/controls",
          "model_name": "ProgressStyleModel",
          "state": {
            "_view_name": "StyleView",
            "_model_name": "ProgressStyleModel",
            "description_width": "initial",
            "_view_module": "@jupyter-widgets/base",
            "_model_module_version": "1.5.0",
            "_view_count": null,
            "_view_module_version": "1.2.0",
            "bar_color": null,
            "_model_module": "@jupyter-widgets/controls"
          }
        },
        "387bdf30c09e437b8c33dca4e877b52a": {
          "model_module": "@jupyter-widgets/base",
          "model_name": "LayoutModel",
          "state": {
            "_view_name": "LayoutView",
            "grid_template_rows": null,
            "right": null,
            "justify_content": null,
            "_view_module": "@jupyter-widgets/base",
            "overflow": null,
            "_model_module_version": "1.2.0",
            "_view_count": null,
            "flex_flow": null,
            "width": null,
            "min_width": null,
            "border": null,
            "align_items": null,
            "bottom": null,
            "_model_module": "@jupyter-widgets/base",
            "top": null,
            "grid_column": null,
            "overflow_y": null,
            "overflow_x": null,
            "grid_auto_flow": null,
            "grid_area": null,
            "grid_template_columns": null,
            "flex": null,
            "_model_name": "LayoutModel",
            "justify_items": null,
            "grid_row": null,
            "max_height": null,
            "align_content": null,
            "visibility": null,
            "align_self": null,
            "height": null,
            "min_height": null,
            "padding": null,
            "grid_auto_rows": null,
            "grid_gap": null,
            "max_width": null,
            "order": null,
            "_view_module_version": "1.2.0",
            "grid_template_areas": null,
            "object_position": null,
            "object_fit": null,
            "grid_auto_columns": null,
            "margin": null,
            "display": null,
            "left": null
          }
        },
        "2e2a60e730eb48ffafefc3690e1e7b54": {
          "model_module": "@jupyter-widgets/controls",
          "model_name": "DescriptionStyleModel",
          "state": {
            "_view_name": "StyleView",
            "_model_name": "DescriptionStyleModel",
            "description_width": "",
            "_view_module": "@jupyter-widgets/base",
            "_model_module_version": "1.5.0",
            "_view_count": null,
            "_view_module_version": "1.2.0",
            "_model_module": "@jupyter-widgets/controls"
          }
        },
        "f88fea884a1346e48097acee2bbb9f9f": {
          "model_module": "@jupyter-widgets/base",
          "model_name": "LayoutModel",
          "state": {
            "_view_name": "LayoutView",
            "grid_template_rows": null,
            "right": null,
            "justify_content": null,
            "_view_module": "@jupyter-widgets/base",
            "overflow": null,
            "_model_module_version": "1.2.0",
            "_view_count": null,
            "flex_flow": null,
            "width": null,
            "min_width": null,
            "border": null,
            "align_items": null,
            "bottom": null,
            "_model_module": "@jupyter-widgets/base",
            "top": null,
            "grid_column": null,
            "overflow_y": null,
            "overflow_x": null,
            "grid_auto_flow": null,
            "grid_area": null,
            "grid_template_columns": null,
            "flex": null,
            "_model_name": "LayoutModel",
            "justify_items": null,
            "grid_row": null,
            "max_height": null,
            "align_content": null,
            "visibility": null,
            "align_self": null,
            "height": null,
            "min_height": null,
            "padding": null,
            "grid_auto_rows": null,
            "grid_gap": null,
            "max_width": null,
            "order": null,
            "_view_module_version": "1.2.0",
            "grid_template_areas": null,
            "object_position": null,
            "object_fit": null,
            "grid_auto_columns": null,
            "margin": null,
            "display": null,
            "left": null
          }
        }
      }
    }
  },
  "cells": [
    {
      "cell_type": "markdown",
      "metadata": {
        "id": "view-in-github",
        "colab_type": "text"
      },
      "source": [
        "<a href=\"https://colab.research.google.com/github/18521509/CS112.L11.KHTN/blob/master/2021_01_17/MI___Pytorch_net_MNIST.ipynb\" target=\"_parent\"><img src=\"https://colab.research.google.com/assets/colab-badge.svg\" alt=\"Open In Colab\"/></a>"
      ]
    },
    {
      "cell_type": "markdown",
      "metadata": {
        "id": "E49VzTK_-aSI"
      },
      "source": [
        "#Paramerters\r\n",
        " - k: Số cụm\r\n",
        " - dir: địa chỉ lưu các output\r\n",
        " - train: số mẫu train\r\n",
        " - test: số mẫu test\r\n",
        " - epochs: số epochs\r\n"
      ]
    },
    {
      "cell_type": "code",
      "metadata": {
        "id": "ci9RF5iW-AoZ"
      },
      "source": [
        "dir = '/content/drive/MyDrive/Model/info/'\r\n",
        "k = 5\r\n",
        "train = 10000\r\n",
        "test = 2000\r\n",
        "epochs = 100"
      ],
      "execution_count": null,
      "outputs": []
    },
    {
      "cell_type": "code",
      "metadata": {
        "id": "SAa6YDO5-9Zr"
      },
      "source": [
        "import os\r\n",
        "import shutil\r\n",
        "dir = '/content/drive/MyDrive/Model/Mnist 100eps'\r\n",
        "if os.path.exists(dir):\r\n",
        "    shutil.rmtree(dir)\r\n",
        "\r\n",
        "dirX = '/content/drive/MyDrive/Model/Mnist 100eps/x_layer'\r\n",
        "dirY = '/content/drive/MyDrive/Model/Mnist 100eps/y_layer'\r\n",
        "os.makedirs(dirX)\r\n",
        "os.makedirs(dirY)\r\n",
        "os.chdir(dir)"
      ],
      "execution_count": null,
      "outputs": []
    },
    {
      "cell_type": "code",
      "metadata": {
        "id": "SzUSQcb2PD7p"
      },
      "source": [
        "import os\r\n",
        "import numpy as np\r\n",
        "# os.mkdir('/content/X')\r\n",
        "# os.mkdir('/content/Y')\r\n",
        "\r\n",
        "def command(exe, name, x,y, n, k, out):\r\n",
        "    return f'{exe} {name} {x} {y} {n} {k} {out}\\n'\r\n",
        "\r\n",
        "def save_info(X_train,Y_train,info,epoch):\r\n",
        "    dirX = 'x_layer'\r\n",
        "    dirY = 'y_layer'\r\n",
        "    k =5\r\n",
        "    n_samples = len(X_train)\r\n",
        "    mi_x = []\r\n",
        "    mi_y = []\r\n",
        "    layers = len(info)\r\n",
        "    x = X_train.reshape(n_samples,-1)\r\n",
        "    y = [str(i.reshape(1)) for i in Y_train]\r\n",
        "\r\n",
        "    dimX = x.shape[1]\r\n",
        "    dimY = 1\r\n",
        "    layers = len(info)\r\n",
        "    exe = './MI'\r\n",
        "    outX = [f'X_{layer:0>2}.txt' for layer in range(layers)]\r\n",
        "    outY = [f'Y_{layer:0>2}.txt' for layer in range(layers)]\r\n",
        "\r\n",
        "\r\n",
        "    _info = [None]*layers\r\n",
        "    for layer in range(layers):\r\n",
        "        _info[layer] = info[layer].reshape(n_samples,-1)\r\n",
        "        dimLayer = len(_info[layer][0])\r\n",
        "        name = f'{epoch:0>2}_{layer:0>2}.txt'\r\n",
        "\r\n",
        "        fileX = open(os.path.join(dirX,name),'w')\r\n",
        "        fileY = open(os.path.join(dirY,name),'w')\r\n",
        "\r\n",
        "        for i in range(n_samples):\r\n",
        "            str_info = ' '.join([f'{_info[layer][i][k]:.4f}' for k in range(len(_info[layer][i]))])\r\n",
        "            x_infor  =  ' '.join([f'{x[i][j]:.4f}' for j in range(len(x[i]))])\r\n",
        "            lineX = x_infor + ' '+ str_info + '\\n'\r\n",
        "            lineY = y[i] + ' ' + str_info + '\\n'\r\n",
        "            fileX.write(lineX)\r\n",
        "            fileY.write(lineY)\r\n",
        "        fileX.close()\r\n",
        "        fileY.close()\r\n",
        "        shX = command(exe, name, dimX, dimLayer, n_samples, k, outX[layer])\r\n",
        "        shY = command(exe, name, dimY , dimLayer, n_samples, k, outY[layer])\r\n",
        "        mi_x.append(shX)\r\n",
        "        mi_y.append(shY)\r\n",
        "    return mi_x, mi_y\r\n"
      ],
      "execution_count": null,
      "outputs": []
    },
    {
      "cell_type": "code",
      "metadata": {
        "id": "6DG-l2ufSCMo"
      },
      "source": [
        "import numpy as np\n",
        "import torch\n",
        "import shutil\n",
        "import sys\n",
        "import tqdm\n",
        "from torch import nn\n",
        "import scipy.io as sio\n",
        "from multiprocessing import cpu_count\n",
        "from joblib import Parallel, delayed\n",
        "import warnings\n",
        "import numba\n",
        "from sklearn.model_selection import train_test_split\n",
        "import matplotlib.pyplot as plt\n",
        "import matplotlib\n",
        "\n",
        "class BatchGenerator():\n",
        "    def __init__(self, inputs_list, batch_size, seed=None):\n",
        "        self.inputs_list = inputs_list\n",
        "        self.batch_size = batch_size\n",
        "        self.seed = seed\n",
        "    \n",
        "        self.indices = np.arange(self.inputs_list[0].shape[0])\n",
        "        np.random.seed(self.seed)   \n",
        "        np.random.shuffle(self.indices)\n",
        "\n",
        "    def how_it_shuffled(self):\n",
        "        return [current_input[self.indices] for current_input in self.inputs_list], np.arange(len(self.indices))[self.indices]\n",
        "\n",
        "    def batch_generator(self):\n",
        "        assert(len(self.inputs_list) > 0)\n",
        "   \n",
        "        for input_array in self.inputs_list:\n",
        "            assert(input_array.shape[0] == self.inputs_list[0].shape[0])\n",
        "            \n",
        "        data_size = self.inputs_list[0].shape[0] // self.batch_size\n",
        "        \n",
        "        if self.inputs_list[0].shape[0] % self.batch_size > 0:\n",
        "            data_size += 1\n",
        "            \n",
        "        for i in range(0, data_size):\n",
        "            current_indices = self.indices[i * self.batch_size: (i + 1) * self.batch_size]     \n",
        "            yield [current_input[current_indices] for current_input in self.inputs_list]\n",
        "\n",
        "\n",
        "class MLPWithInfo(nn.Module):\n",
        "    def __init__(self, activation=nn.Tanh, output_activation=nn.Sigmoid, last_activation=nn.Sigmoid):\n",
        "        super().__init__()\n",
        "        self.mi_x = []\n",
        "        self.mi_y = []\n",
        "        self.representations_per_epochs = []\n",
        "        self.info_layers_numbers = [4,9,11,13,15]\n",
        "        self.has_output_activation = output_activation is not None\n",
        "        self.last_activation = last_activation\n",
        "        for param in self.parameters():\n",
        "            param.requires_grad = False\n",
        "        layers = [nn.Conv2d(in_channels = 1, out_channels = 16, kernel_size= (5,5),padding= 2),\n",
        "                  nn.BatchNorm2d(16), #16,28,28\n",
        "                  nn.Tanh(),\n",
        "                  nn.Dropout(0.2),\n",
        "                  nn.MaxPool2d((2,2)), #16,14,14\n",
        "                  nn.Conv2d(in_channels = 16, out_channels =32, kernel_size= (5,5),padding= 2),\n",
        "                  nn.BatchNorm2d(32),\n",
        "                  nn.Tanh(),\n",
        "                  nn.Dropout(0.2),\n",
        "                  nn.MaxPool2d((2,2)), #32,7,7\n",
        "                  nn.Flatten(), #1568\n",
        "                  nn.Linear(1568,128), #128\n",
        "                  nn.BatchNorm1d(128), #128\n",
        "                  nn.Tanh(), \n",
        "                  nn.Dropout(0.2),                 \n",
        "                  nn.Linear(128,10) #10\n",
        "        ]\n",
        "                 \n",
        "        self.model = nn.ModuleList(layers)\n",
        "        self.current_representations = None\n",
        "        self.reset()\n",
        "        \n",
        "    def forward(self, x):      \n",
        "        ws_epoch = []\n",
        "        current_representation = x\n",
        "\n",
        "        # self.add_info(0, x.detach().numpy())\n",
        "        next_layer_index = 0\n",
        "\n",
        "        for i, layer in enumerate(self.model):\n",
        "            current_representation = layer(current_representation)\n",
        "\n",
        "            if i == self.info_layers_numbers[next_layer_index]:\n",
        "                self.add_info(next_layer_index, current_representation.cpu().detach().numpy())\n",
        "                next_layer_index += 1\n",
        "            if next_layer_index == len(self.info_layers_numbers):\n",
        "                break\n",
        "\n",
        "        # if not self.has_output_activation:\n",
        "        #     self.add_info(next_layer_index, self.last_activation()(current_representation).detach().numpy())\n",
        "        # else:\n",
        "        #     self.add_info(next_layer_index, current_representation.detach().numpy())\n",
        "        # assert(len(ws_epoch) == len(self.model))\n",
        "        # self.representations += ws_epoch\n",
        "\n",
        "        return current_representation\n",
        "\n",
        "    def next_epoch(self,X,y,epoch):\n",
        "        sh_x,sh_y = save_info(X,y,self.current_representations,epoch)\n",
        "        self.mi_x.extend(sh_x)\n",
        "        self.mi_y.extend(sh_y)\n",
        "        # self.representations_per_epochs.append(self.current_representations)\n",
        "        # self.reset()\n",
        "        \n",
        "        for layer in range(len(self.current_representations)):\n",
        "            name = f'{epoch:3}_{layer:2}.npy'\n",
        "            np.save(name,self.current_representations[layer])\n",
        "\n",
        "    def add_info(self, layer_index, representations):\n",
        "        if self.current_representations[layer_index] is None:\n",
        "            self.current_representations[layer_index] = representations\n",
        "        else:\n",
        "            self.current_representations[layer_index] = np.concatenate([self.current_representations[layer_index],\n",
        "                                                                       representations], axis=0)\n",
        "        \n",
        "    def reset(self):\n",
        "        self.current_representations = [None for _ in range(len(self.info_layers_numbers))]\n",
        "        self.representations_epochs = []\n"
      ],
      "execution_count": null,
      "outputs": []
    },
    {
      "cell_type": "markdown",
      "metadata": {
        "id": "ebbTIuDj64Ej"
      },
      "source": [
        "##train"
      ]
    },
    {
      "cell_type": "code",
      "metadata": {
        "id": "_EHrLFWQ65B-"
      },
      "source": [
        "def train_network(model, X, y, X_val, y_val, batch_size=32, epochs=16):\n",
        "    \"\"\"\n",
        "    The network is trained with full batch\n",
        "    \"\"\"\n",
        "    loss_list = []\n",
        "    epoch_mean_loss = []\n",
        "    accuracy_mean_val = []\n",
        "    \n",
        "    optimizer = torch.optim.SGD(model.parameters(), lr=0.01)\n",
        "    scheduler = torch.optim.lr_scheduler.ExponentialLR(optimizer, gamma=0.97)\n",
        "    loss_fun = torch.nn.CrossEntropyLoss()\n",
        "    model.reset()\n",
        "    train_shuffles = []\n",
        "    for epoch in tqdm.auto.tqdm(range(epochs)):\n",
        "        samples = 0\n",
        "        cum_loss = 0\n",
        "        model.reset()\n",
        "        train_batcher = BatchGenerator([X, y], batch_size)\n",
        "        train_shuffles.append(train_batcher.how_it_shuffled()[1])\n",
        "\n",
        "        for X_batch, y_batch in train_batcher.batch_generator():\n",
        "            X_batch = torch.Tensor(X_batch).cuda()\n",
        "            y_batch = torch.Tensor(y_batch).long().cuda()\n",
        "            model.train()\n",
        "            # predictions = model(X_batch)\n",
        "            predictions = model(X_batch)\n",
        "            # print('\\n',predictions)\n",
        "\n",
        "            loss = loss_fun(predictions, y_batch.reshape(-1))\n",
        "            loss.backward()\n",
        "            loss_list.append(loss.item())\n",
        "            optimizer.step()\n",
        "            optimizer.zero_grad()\n",
        "\n",
        "            samples += X_batch.shape[0]\n",
        "            cum_loss += loss.item()\n",
        "\n",
        "        scheduler.step()\n",
        "        model.next_epoch(X,y,epoch)\n",
        "\n",
        "        epoch_mean_loss.append(cum_loss / samples)\n",
        "\n",
        "        samples_val = 0\n",
        "        accuracy_val = 0\n",
        "\n",
        "        val_batcher = BatchGenerator([X_val, y_val], 1)\n",
        "\n",
        "        for X_batch, y_batch in val_batcher.batch_generator():\n",
        "            X_batch = torch.Tensor(X_batch).cuda()\n",
        "            y_batch = torch.Tensor(y_batch).cuda()\n",
        "\n",
        "            model.eval()\n",
        "    \n",
        "            predictions_logits = torch.argmax(model(X_batch).cuda(), dim=1)#.type(torch.DoubleTensor) \n",
        "            accuracy_val += ((y_batch == predictions_logits).int()).sum().item()\n",
        "            samples_val += X_batch.shape[0]\n",
        "          \n",
        "        accuracy_mean_val.append(float(accuracy_val) / samples_val)\n",
        "    return epoch_mean_loss, accuracy_mean_val, train_shuffles\n"
      ],
      "execution_count": null,
      "outputs": []
    },
    {
      "cell_type": "markdown",
      "metadata": {
        "id": "BaUvSj8BS6Gf"
      },
      "source": [
        "#information process"
      ]
    },
    {
      "cell_type": "markdown",
      "metadata": {
        "id": "qkc8bbM_UcAV"
      },
      "source": [
        "#experiments"
      ]
    },
    {
      "cell_type": "code",
      "metadata": {
        "id": "hQR0S7tbUgeS",
        "colab": {
          "base_uri": "https://localhost:8080/"
        },
        "outputId": "b1b58f11-2880-4c01-e02f-4644c5bf7da3"
      },
      "source": [
        "use_cuda = torch.cuda.is_available()\n",
        "device = torch.device(\"cuda\" if use_cuda else \"cpu\")\n",
        "model = MLPWithInfo()\n",
        "model.to(device)"
      ],
      "execution_count": null,
      "outputs": [
        {
          "output_type": "execute_result",
          "data": {
            "text/plain": [
              "MLPWithInfo(\n",
              "  (model): ModuleList(\n",
              "    (0): Conv2d(1, 16, kernel_size=(5, 5), stride=(1, 1), padding=(2, 2))\n",
              "    (1): BatchNorm2d(16, eps=1e-05, momentum=0.1, affine=True, track_running_stats=True)\n",
              "    (2): Tanh()\n",
              "    (3): Dropout(p=0.2, inplace=False)\n",
              "    (4): MaxPool2d(kernel_size=(2, 2), stride=(2, 2), padding=0, dilation=1, ceil_mode=False)\n",
              "    (5): Conv2d(16, 32, kernel_size=(5, 5), stride=(1, 1), padding=(2, 2))\n",
              "    (6): BatchNorm2d(32, eps=1e-05, momentum=0.1, affine=True, track_running_stats=True)\n",
              "    (7): Tanh()\n",
              "    (8): Dropout(p=0.2, inplace=False)\n",
              "    (9): MaxPool2d(kernel_size=(2, 2), stride=(2, 2), padding=0, dilation=1, ceil_mode=False)\n",
              "    (10): Flatten(start_dim=1, end_dim=-1)\n",
              "    (11): Linear(in_features=1568, out_features=128, bias=True)\n",
              "    (12): BatchNorm1d(128, eps=1e-05, momentum=0.1, affine=True, track_running_stats=True)\n",
              "    (13): Tanh()\n",
              "    (14): Dropout(p=0.2, inplace=False)\n",
              "    (15): Linear(in_features=128, out_features=10, bias=True)\n",
              "  )\n",
              ")"
            ]
          },
          "metadata": {
            "tags": []
          },
          "execution_count": 6
        }
      ]
    },
    {
      "cell_type": "code",
      "metadata": {
        "id": "GetAO0u-Ulkg",
        "colab": {
          "base_uri": "https://localhost:8080/"
        },
        "outputId": "8b0158c3-71db-4492-b930-07a88c5c367c"
      },
      "source": [
        "model.info_layers_numbers"
      ],
      "execution_count": null,
      "outputs": [
        {
          "output_type": "execute_result",
          "data": {
            "text/plain": [
              "[4, 9, 11, 13, 15]"
            ]
          },
          "metadata": {
            "tags": []
          },
          "execution_count": 7
        }
      ]
    },
    {
      "cell_type": "markdown",
      "metadata": {
        "id": "NfTWN7VU4rZG"
      },
      "source": [
        "#"
      ]
    },
    {
      "cell_type": "code",
      "metadata": {
        "colab": {
          "base_uri": "https://localhost:8080/"
        },
        "id": "4NI9PlLwm_Dq",
        "outputId": "03f02879-f6e7-42e0-f835-08bd9939ef9c"
      },
      "source": [
        "!pwd"
      ],
      "execution_count": null,
      "outputs": [
        {
          "output_type": "stream",
          "text": [
            "/content/drive/MyDrive/Model/Mnist 100eps\n"
          ],
          "name": "stdout"
        }
      ]
    },
    {
      "cell_type": "code",
      "metadata": {
        "id": "3CD2UY9BUsvR",
        "colab": {
          "base_uri": "https://localhost:8080/",
          "height": 133,
          "referenced_widgets": [
            "614d9ca5c4a84346ab07ba4975a64003",
            "c8d345f007ad414a83ff6cbcb7fd5873",
            "07cf5d394fed4c2b84d48f5bf12c7a30",
            "39b8ac8081c94389ac75c176f552c6ea",
            "c6d2c217b77f46239634e0f0b606faec",
            "387bdf30c09e437b8c33dca4e877b52a",
            "2e2a60e730eb48ffafefc3690e1e7b54",
            "f88fea884a1346e48097acee2bbb9f9f"
          ]
        },
        "outputId": "3e17f183-67c4-4186-e432-1ce2f73ed419"
      },
      "source": [
        "from keras.datasets import mnist\n",
        "import os\n",
        "import shutil\n",
        "# path = '/content/drive/MyDrive/Model/npy info'\n",
        "# if os.path.exists(path):\n",
        "#     shutil.rmtree(path)\n",
        "# os.makedirs(path)\n",
        "# os.chdir(path)\n",
        "img_rows, img_cols = 28, 28\n",
        "# the data, split between train and test sets\n",
        "(x_train, y_train), (x_test, y_test) = mnist.load_data()\n",
        "x_train = x_train.reshape(x_train.shape[0], 1, img_rows, img_cols)\n",
        "x_test = x_test.reshape(x_test.shape[0], 1, img_rows, img_cols)\n",
        "input_shape = (1, img_rows, img_cols)\n",
        "\n",
        "y_train = y_train.reshape(-1,1,1)\n",
        "y_test = y_test.reshape(-1,1,1)\n",
        "x_train = x_train.astype('float32')\n",
        "x_test = x_test.astype('float32')\n",
        "x_train /= 255\n",
        "x_test /= 255\n",
        "\n",
        "\n",
        "X_train = x_train[:train]\n",
        "Y_train = y_train[:train]\n",
        "X_test = x_test[:test]\n",
        "Y_test = y_test[:test]\n",
        "\n",
        "# X_train = x_train\n",
        "# Y_train = y_train\n",
        "# X_test = x_test\n",
        "# Y_test = y_test\n",
        "\n",
        "print(f\"\\nTrain: {X_train.shape[0]}\")\n",
        "print(f\"Test: {Y_test.shape[0]}\")\n",
        "\n",
        "train_res = train_network(model, X_train, Y_train,\n",
        "                        X_test, Y_test, batch_size=16 , epochs=epochs)"
      ],
      "execution_count": null,
      "outputs": [
        {
          "output_type": "stream",
          "text": [
            "Downloading data from https://storage.googleapis.com/tensorflow/tf-keras-datasets/mnist.npz\n",
            "11493376/11490434 [==============================] - 0s 0us/step\n",
            "\n",
            "Train: 10000\n",
            "Test: 2000\n"
          ],
          "name": "stdout"
        },
        {
          "output_type": "display_data",
          "data": {
            "application/vnd.jupyter.widget-view+json": {
              "model_id": "614d9ca5c4a84346ab07ba4975a64003",
              "version_minor": 0,
              "version_major": 2
            },
            "text/plain": [
              "HBox(children=(FloatProgress(value=0.0), HTML(value='')))"
            ]
          },
          "metadata": {
            "tags": []
          }
        }
      ]
    },
    {
      "cell_type": "code",
      "metadata": {
        "id": "j6jQHWaGxsxL"
      },
      "source": [
        ""
      ],
      "execution_count": null,
      "outputs": []
    },
    {
      "cell_type": "code",
      "metadata": {
        "id": "7_gmrmUxSD1-"
      },
      "source": [
        "shX = model.mi_x\r\n",
        "shY = model.mi_y\r\n",
        "X_path = os.path.join(dirX,'mi_x_layer.sh')\r\n",
        "Y_path = os.path.join(dirY,'mi_y_layer.sh')\r\n",
        "\r\n",
        "with open(X_path,mode = 'w') as f:\r\n",
        "    f.write(''.join(shX))\r\n",
        "\r\n",
        "with open(Y_path,mode = 'w') as f:\r\n",
        "    f.write(''.join(shY))"
      ],
      "execution_count": null,
      "outputs": []
    },
    {
      "cell_type": "code",
      "metadata": {
        "id": "5LD7QDRVkmUV"
      },
      "source": [
        "# predict = model(torch.cuda.FloatTensor(X_test))"
      ],
      "execution_count": null,
      "outputs": []
    },
    {
      "cell_type": "code",
      "metadata": {
        "id": "91GI7jVDUtJG"
      },
      "source": [
        "# ws = model.representations_per_epochs\n",
        "# order = train_res[2]\n",
        "# ws = get_aligned_representations(ws, order)"
      ],
      "execution_count": null,
      "outputs": []
    },
    {
      "cell_type": "code",
      "metadata": {
        "id": "rKt6U5_GUuey"
      },
      "source": [
        "# assert len(model.representations_per_epochs) == epochs\n",
        "# assert len(model.representations_per_epochs[0]) == len(model.info_layers_numbers)\n",
        "\n",
        "# for i in range(len(model.representations_per_epochs[0])):\n",
        "#     assert model.representations_per_epochs[0][i].shape[0] == X_train.shape[0]"
      ],
      "execution_count": null,
      "outputs": []
    },
    {
      "cell_type": "code",
      "metadata": {
        "id": "GOaZB4ryUuza"
      },
      "source": [
        "# plt.plot(np.arange(len(train_res[0])), train_res[0])"
      ],
      "execution_count": null,
      "outputs": []
    },
    {
      "cell_type": "code",
      "metadata": {
        "id": "0O0kLPJOUvFE"
      },
      "source": [
        "# plt.plot(np.arange(len(train_res[1])), train_res[1])"
      ],
      "execution_count": null,
      "outputs": []
    },
    {
      "cell_type": "code",
      "metadata": {
        "id": "-ZEKf3yuoDOT"
      },
      "source": [
        "# for epoch in range(len(ws)):\n",
        "#     for layer in range(len(ws[epoch])):\n",
        "#         ws[epoch][layer] = ws[epoch][layer].reshape(train,-1)"
      ],
      "execution_count": null,
      "outputs": []
    },
    {
      "cell_type": "code",
      "metadata": {
        "id": "WrtUHKx4sBcl"
      },
      "source": [
        "model"
      ],
      "execution_count": null,
      "outputs": []
    },
    {
      "cell_type": "code",
      "metadata": {
        "id": "DUSFLaN45x2Z"
      },
      "source": [
        "# epochs = len(ws)\n",
        "# layers = len(ws[0])\n",
        "# samples = len(ws[0][0])\n",
        "# for epoch in range(epochs):\n",
        "#     for layer in range(layers):\n",
        "#         ws[epoch][layer] = ws[epoch][layer].reshape(samples,-1)\n"
      ],
      "execution_count": null,
      "outputs": []
    },
    {
      "cell_type": "code",
      "metadata": {
        "id": "L3X31zdYhKHG"
      },
      "source": [
        "# if  os.path.exists(dirX):\n",
        "#     shutil.rmtree(dirX, ignore_errors=True)\n",
        "# if os.path.exists(dirY):\n",
        "#     shutil.rmtree(dirY, ignore_errors=True)\n",
        "\n",
        "# os.makedirs(dirY) \n",
        "# os.makedirs(dirX)"
      ],
      "execution_count": null,
      "outputs": []
    },
    {
      "cell_type": "code",
      "metadata": {
        "id": "h0EEIYjGIt-E"
      },
      "source": [
        "# from matplotlib import pyplot as plt\n",
        "# loss = train_res[0]\n",
        "# acc = train_res[1]"
      ],
      "execution_count": null,
      "outputs": []
    },
    {
      "cell_type": "markdown",
      "metadata": {
        "id": "055S1w7s7CYn"
      },
      "source": [
        "## Loss "
      ]
    },
    {
      "cell_type": "code",
      "metadata": {
        "id": "y7HRSjolI227"
      },
      "source": [
        "# plt.figure(figsize = (16,9))\n",
        "# plt.plot(loss)\n",
        "# plt.show()"
      ],
      "execution_count": null,
      "outputs": []
    },
    {
      "cell_type": "code",
      "metadata": {
        "id": "r6oKgUy_7IbV"
      },
      "source": [
        "# plt.figure(figsize = (16,9))\r\n",
        "# plt.plot(acc)\r\n",
        "# plt.show()"
      ],
      "execution_count": null,
      "outputs": []
    },
    {
      "cell_type": "markdown",
      "metadata": {
        "id": "TvpCnIr57F5A"
      },
      "source": [
        "##Accuracy"
      ]
    },
    {
      "cell_type": "markdown",
      "metadata": {
        "id": "1OVrpHlOpcCx"
      },
      "source": [
        "#CALC MI\r\n",
        "\r\n",
        "- Lưu output và lệnh tính mutual information"
      ]
    },
    {
      "cell_type": "code",
      "metadata": {
        "id": "ULfe9lHTqDnC"
      },
      "source": [
        "# def command(exe, name, x,y, n, k, out):\n",
        "#     return f'{exe} {name} {x} {y} {n} {k} {out}\\n'\n",
        "\n",
        "# n_samples = train\n",
        "\n",
        "# mi_x = open(os.path.join(dirX,'mi_x_layer.sh'), 'w')\n",
        "# mi_y = open(os.path.join(dirY,'mi_y_layer.sh'), 'w')\n",
        "# X_train = X_train.reshape(n_samples,-1)\n",
        "\n",
        "# y = [str(i) for i in Y_train]\n",
        "# x = X_train\n",
        "\n",
        "# dimX = X_train.shape[1]\n",
        "# dimY = 1\n",
        "\n",
        "# epochs = len(ws)\n",
        "# layers = len(ws[0])\n",
        "# samples = len(ws[0][0])\n",
        "\n",
        "# exe = './MI'\n",
        "# outX = [f'X_{layer:0>2}.txt' for layer in range(layers)]\n",
        "# outY = [f'Y_{layer:0>2}.txt' for layer in range(layers)]\n",
        "\n",
        "\n",
        "\n",
        "# for epoch in range(epochs):\n",
        "#     for layer in range(layers):\n",
        "#         dimLayer = len(ws[epoch][layer][0])\n",
        "#         name = f'{epoch:0>2}_{layer:0>2}.txt'\n",
        "\n",
        "#         fileX = open(os.path.join(dirX,name),'w')\n",
        "#         fileY = open(os.path.join(dirY,name),'w')\n",
        "\n",
        "#         for i in range(samples):\n",
        "#             str_info = ' '.join([f'{ws[epoch][layer][i][k]:.4f}' for k in range(len(ws[epoch][layer][i]))])\n",
        "#             x_infor  =  ' '.join([f'{x[i][j]:.4f}' for j in range(len(x[i]))])\n",
        "#             lineX = x_infor + ' '+ str_info + '\\n'\n",
        "#             lineY = y[i] + ' ' + str_info + '\\n'\n",
        "#             fileX.write(lineX)\n",
        "#             fileY.write(lineY)\n",
        "#         fileX.close()\n",
        "#         fileY.close()\n",
        "#         shX = command(exe, name, dimX, dimLayer, n_samples, k, outX[layer])\n",
        "#         shY = command(exe, name, dimY , dimLayer, n_samples, k, outY[layer])\n",
        "#         mi_x.write(shX)\n",
        "#         mi_y.write(shY)\n",
        "# mi_x.close()\n",
        "# mi_y.close()\n"
      ],
      "execution_count": null,
      "outputs": []
    }
  ]
}