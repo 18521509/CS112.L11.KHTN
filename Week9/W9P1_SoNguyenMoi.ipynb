{
  "nbformat": 4,
  "nbformat_minor": 0,
  "metadata": {
    "colab": {
      "name": "W9P1_SoNguyenMoi.ipynb",
      "provenance": [],
      "collapsed_sections": [],
      "authorship_tag": "ABX9TyORVzODqp5CcDHN8CQinVjm",
      "include_colab_link": true
    },
    "kernelspec": {
      "name": "python3",
      "display_name": "Python 3"
    }
  },
  "cells": [
    {
      "cell_type": "markdown",
      "metadata": {
        "id": "view-in-github",
        "colab_type": "text"
      },
      "source": [
        "<a href=\"https://colab.research.google.com/github/18521509/CS112.L11.KHTN/blob/master/Week9/W9P1_SoNguyenMoi.ipynb\" target=\"_parent\"><img src=\"https://colab.research.google.com/assets/colab-badge.svg\" alt=\"Open In Colab\"/></a>"
      ]
    },
    {
      "cell_type": "markdown",
      "metadata": {
        "id": "XqlmxZ0yitrf"
      },
      "source": [
        "##Nhóm 003\r\n",
        "\r\n",
        "---\r\n",
        "\r\n",
        "\r\n",
        "\r\n",
        "---\r\n",
        "\r\n",
        "\r\n",
        "- Nguyễn Khánh Toàn - 18521509\r\n",
        "- Nguyễn Trần Trung - 18521555\r\n",
        "- Nguyễn Lâm Quỳnh - 18521326\r\n",
        "\r\n",
        "![](https://i.postimg.cc/k445hYdx/logo-uit.png)\r\n"
      ]
    },
    {
      "cell_type": "markdown",
      "metadata": {
        "id": "MXiYbHAXiwLO"
      },
      "source": [
        "# **Bài 1. Số nguyên mới**\r\n",
        "-----\r\n",
        "\r\n",
        "\r\n",
        "\r\n",
        "> Cho số nguyên dương **_n_** có không quá 100 chữ số. Hãy xác định số nguyên lớn nhất **_m_** chia hết cho 3 và khác **_n_** ở đúng một chữ số.\r\n",
        "\r\n",
        "> Ví dụ, ***n*** = 123 thì ***m*** sẽ là 723\r\n",
        "\r\n",
        "**Dữ liệu:** \r\n",
        "\r\n",
        "> Vào từ thiết bị nhập chuẩn gồm một dòng chứa số nguyên ***n*** có không quá 100 chữ số và không chứa các số 0 không có nghĩa. \r\n",
        "\r\n",
        "**Kết quả:** \r\n",
        "\r\n",
        "> Đưa ra thiết bị xuất chuẩn số nguyên ***m*** tìm được\r\n",
        "\r\n",
        "**Dữ liệu mẫu**:\r\n",
        "\r\n",
        "\\begin{array}{|c|c|}\r\n",
        "Input&Output\\\\ \\hline\r\n",
        "123 & 723\r\n",
        "\\end{array}\r\n",
        "\r\n",
        "## **1. Tóm tắt bài toán**\r\n",
        "-----\r\n",
        "\r\n",
        "Cho số nguyên dương **_n_** có không quá 100 chữ số. Hãy xác định số nguyên lớn nhất **_m_** chia hết cho 3 và khác **_n_** ở đúng một chữ số.\r\n",
        "\r\n",
        "## **2. Nhận diện khuôn mẫu**\r\n",
        "-----\r\n",
        "\r\n",
        "Khi tiếp cận bài toán này, ta sẽ nghĩ tới một số chú ý sau:\r\n",
        "- Ta sẽ thay đổi **duy nhất 1 chữ số**, thay đổi ở đây có nghĩ là thay chữ số này thành chữ số lớn nhất để tổng các chữ số trong ***n*** chia hết cho 3, sau khi thay đổi thì chữ số mới này **lớn hơn** chữ số ban đầu.\r\n",
        "- Để số mới là số lớn nhất và chia hết cho 3, ta sẽ thay đổi chữ số đầu tiên của ***n*** (nếu được). \r\n",
        "- Nếu không được, ta sẽ thay đổi chữ số tiếp theo (Nếu được).\r\n",
        "- Nếu không được, ta tiếp tục thay đổi chữ số tiếp theo (nếu được)....\r\n",
        "- Nếu đến chữ số cuối cùng của ***n*** vẫn không thay đổi được, ta sẽ trừ ***n*** một số ***r*** là số dư khi ***n*** chia cho 3 (***r*** $\\in$ {1,2,3}). Khi đó ta sẽ được số ***m*** là số nguyên lớn nhất thỏa điều kiện\r\n",
        "\r\n",
        "## **3. Thiết kế thuật toán**\r\n",
        "-----\r\n",
        "\r\n",
        "\r\n",
        "\r\n",
        "> Ta thực hiện vòng lặp duyệt các chữ số của ***n*** từ chữ số đầu tới khi có 1 chữ số được thay đổi.\r\n",
        "\r\n",
        "> Nếu có thể thay đổi, ta dừng vòng lặp và xuất ra kết quả.\r\n",
        "\r\n",
        "> Nếu đến chữ số cuối cùng mà chưa thay đổi, xuất ra ***n*** - ***r*** ( với ***r*** là số dư khi ***n*** chia cho 3 (***r*** $\\in$ {1,2,3})\r\n",
        "\r\n",
        "## **4. Thực hiện**\r\n",
        "-----"
      ]
    },
    {
      "cell_type": "code",
      "metadata": {
        "id": "9gx7z6gmjEon"
      },
      "source": [
        "n = input()\r\n",
        "int_n = int(n)\r\n",
        "mod = int_n % 3\r\n",
        "list_n = list(n)\r\n",
        "\r\n",
        "if mod == 0:\r\n",
        "    tmp = 3\r\n",
        "elif mod == 1:\r\n",
        "    tmp = 2\r\n",
        "else:\r\n",
        "    tmp = 1\r\n",
        "    \r\n",
        "for i in range (len(list_n)):\r\n",
        "    check = 0\r\n",
        "    a = int(list_n[i]) + tmp\r\n",
        "    \r\n",
        "    if(a <= 9):\r\n",
        "        check = 1\r\n",
        "        while a <=9:\r\n",
        "            check += 1 \r\n",
        "            a += 3\r\n",
        "    \r\n",
        "    if check == 1:\r\n",
        "        list_n[i] = str(a)\r\n",
        "        break\r\n",
        "    elif check > 1:\r\n",
        "        list_n[i] = str(a - 3)\r\n",
        "        break\r\n",
        "    \r\n",
        "n_2 = ''.join(list_n)\r\n",
        "\r\n",
        "if (n != n_2):\r\n",
        "    print(n_2)\r\n",
        "else:\r\n",
        "    list_n = list(n)\r\n",
        "    if mod == 0:\r\n",
        "        tmp = 3\r\n",
        "    elif mod == 1:\r\n",
        "        tmp = 1\r\n",
        "    else:\r\n",
        "        tmp = 2\r\n",
        "    list_n[-1] = str(int(list_n[-1]) - tmp) \r\n",
        "    print(''.join(list_n))"
      ],
      "execution_count": null,
      "outputs": []
    }
  ]
}