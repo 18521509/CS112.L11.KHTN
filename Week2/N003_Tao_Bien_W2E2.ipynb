{
  "nbformat": 4,
  "nbformat_minor": 0,
  "metadata": {
    "colab": {
      "name": "N003_Tao_Bien_Week2_Ex1.ipynb",
      "provenance": [],
      "collapsed_sections": [],
      "toc_visible": true,
      "authorship_tag": "ABX9TyPmjaPjWpgxAZyixyCi4cW4",
      "include_colab_link": true
    },
    "kernelspec": {
      "name": "python3",
      "display_name": "Python 3"
    }
  },
  "cells": [
    {
      "cell_type": "markdown",
      "metadata": {
        "id": "view-in-github",
        "colab_type": "text"
      },
      "source": [
        "<a href=\"https://colab.research.google.com/github/18521509/CS112.L11.KHTN/blob/master/Week2/N003_Tao_Bien_Week2_Ex1.ipynb\" target=\"_parent\"><img src=\"https://colab.research.google.com/assets/colab-badge.svg\" alt=\"Open In Colab\"/></a>"
      ]
    },
    {
      "cell_type": "markdown",
      "metadata": {
        "id": "ZlNA1A7lLxcO",
        "colab_type": "text"
      },
      "source": [
        "##Nhóm 003\n",
        "- Nguyễn Khánh Toàn - 18521509\n",
        "- Nguyễn Trần Trung - 18521555\n",
        "- Nguyễn Lâm Quỳnh - 18521326\n",
        "\n",
        "![](https://i.postimg.cc/k445hYdx/logo-uit.png)\n"
      ]
    },
    {
      "cell_type": "markdown",
      "metadata": {
        "id": "S8_R_U9xhUXh",
        "colab_type": "text"
      },
      "source": [
        "#**Đề bài**\n",
        "Tảo biển sinh sản rất nhanh khi có môi trường thuận lợi với chúng và có những loài còn tiết ra môi trường những chất độc hại.\n",
        "\n",
        "Một loại tảo nâu trong môi trường nước bị ô nhiễm nặng sinh sản theo quy luật sau:\n",
        "\n",
        "- Ngày đầu tiên (ngày 0) có n cá thể ở mức 1,\n",
        "- Ở mỗi ngày tiếp theo, mỗi cá thể mức i sinh ra i cá thể mức 1, các cá thể mới sinh sẽ sinh sôi, phát triển từ ngày hôm sau.\n",
        "- Bản thân các cá thể mức $i$ phát triển thành mức $i+1$ và chu kỳ phát triển trong ngày chấm dứt.\n",
        "Hãy xác định sau k ngày trong nước biển có bao nhiêu cá thể.\n",
        "\n",
        "**Dữ liệu:** Vào từ thiết bị nhập chuẩn gồm một dòng chứa 2 số nguyên $n và k (1 ≤ n ≤ 1000, 1 ≤ k ≤ 1^{18})$.\n",
        "\n",
        "(test hiện tại chỉ có $k ≤ 10^5$,  thầy sẽ chấm lại sau khi nâng cấp test)\n",
        "\n",
        "**Kết quả:** Đưa ra thiết bị xuất chuẩn một số nguyên – số lượng cá thể  tảo theo mô đun $10^9+7$.\n",
        "\n",
        "**Ví dụ:**\n",
        "\n",
        "| Input | Output |\n",
        "| -:- | -: |\n",
        "| 3 2 | 15 |"
      ]
    },
    {
      "cell_type": "markdown",
      "metadata": {
        "id": "OSB2roxkaYvC",
        "colab_type": "text"
      },
      "source": [
        "#Phân tích:\n",
        "- Gọi $A_i$ là số cá thể tổn tại xuất phát từ một cá thể ban đầu sau $i$ ngày, vì mức sinh sản các cá thể như nhau nên kết quả bài toán là $n*A_k$\n",
        "- Ta có:\n",
        "    - $A_1$ = 2\n",
        "    - $A_2$ = 5\n",
        "    - $A_3$ = 13\n",
        "    - $A_4$ = 34\n",
        "- Nhận thấy $A_i$ chính là phần tử thứ $2*i$ trong dãy số $Fibonacci$\n",
        "- Bài toán được đưa về tính phần tử thứ $2*k$ trong dãy số $Fibonacci$"
      ]
    },
    {
      "cell_type": "markdown",
      "metadata": {
        "id": "aPYKboGnOrfM",
        "colab_type": "text"
      },
      "source": [
        "#Bài làm\n",
        "\n",
        "---\n",
        "\n"
      ]
    },
    {
      "cell_type": "markdown",
      "metadata": {
        "id": "QoPz3I7NIKcR",
        "colab_type": "text"
      },
      "source": [
        "##Abstraction\n",
        "Cho 2 số nguyên $n, k\\ (n\\le10^3, k\\le 10^{18}$). tính $n*F(2k)$ với $F(i)$ là số  $Fibonacci$ thứ $i$. "
      ]
    },
    {
      "cell_type": "markdown",
      "metadata": {
        "id": "QNCesPzJKadw",
        "colab_type": "text"
      },
      "source": [
        "##Pattern Recognition\n",
        "- Giải thuật quy hoạch động\n",
        "- Đại số tuyến tính\n",
        "- Chia để trị"
      ]
    },
    {
      "cell_type": "markdown",
      "metadata": {
        "id": "AlhlURDGMWbj",
        "colab_type": "text"
      },
      "source": [
        "##Algorithm Design\n"
      ]
    },
    {
      "cell_type": "markdown",
      "metadata": {
        "id": "3kJw3QS5MfVr",
        "colab_type": "text"
      },
      "source": [
        "###Sử dụng giải thuật quy hoạch động\n",
        "- Tạo mảng gồm $2*k$ phần tử, sử dụng công thức tính dãy $Fibonacci: F[i] = F[i-1] + F[i-2]$ để cập nhật mỗi vòng lặp.\n",
        "- Có thể giảm thiểu bộ nhớ sử dụng bằng việc chỉ dùng 2 biến lưu 2 phần tử cuối cùng của dãy. Cập nhật mỗi vòng lặp $F_1, F_2 = F_2, F_1+F_2$\n",
        "\n",
        "Độ phức tạp của giải thuật này là $O(k)$, giải thuật này không đáp ứng yêu cầu bài toán $(k\\le10^{18})$"
      ]
    },
    {
      "cell_type": "markdown",
      "metadata": {
        "id": "1dpXPkzgNpKj",
        "colab_type": "text"
      },
      "source": [
        "### Sử dụng phương pháp nhân ma trận kết hợp chia để trị.\n",
        "- Chúng ta có thể tính dãy $Fibonacci$ thông qua phép nhân ma trận\n",
        "\n",
        "$$\\left[ \\begin{array}{cc}\n",
        "f_{n+2} & f_{n+1} \\\\\n",
        "f_{n+1} & f_{n}\n",
        "\\end{array} \\right] \\times \\left[ \\begin{array}{cc}\n",
        "1 & 1 \\\\\n",
        "1 & 0\n",
        "\\end{array} \\right] =\\left[ \\begin{array}{cc}\n",
        "f_{n+3} & f_{n+2} \\\\\n",
        "f_{n+2} & f_{n+1}\n",
        "\\end{array} \\right]\\\n",
        "$$\n",
        "\n",
        "- Do phép nhân ma trận có tính kết hợp nên ta có\n",
        "\n",
        "$$\\left[ \\begin{array}{cc}\n",
        "f_{n+2} & f_{n+1} \\\\\n",
        "f_{n+1} & f_{n}\n",
        "\\end{array} \\right] \\times \\left[ \\begin{array}{cc}\n",
        "1 & 1 \\\\\n",
        "1 & 0\n",
        "\\end{array} \\right]^k =\\left[ \\begin{array}{cc}\n",
        "f_{n+2+k} & f_{n+1+k} \\\\\n",
        "f_{n+1+k} & f_{n+k}\n",
        "\\end{array} \\right]\\\n",
        "$$\n",
        "\n",
        "- Cho nên $F_{n}$ được định nghĩa:\n",
        "$$\\left[ \\begin{array}{cc}\n",
        "1 & 1 \\\\\n",
        "1 & 0\n",
        "\\end{array} \\right]^n =\\left[ \\begin{array}{cc}\n",
        "f_{n+2} & f_{n+1} \\\\\n",
        "f_{n+1} & f_{n}\n",
        "\\end{array} \\right]\\\n",
        "$$\n",
        "\n",
        "- Để tính $A^k$\n",
        "\n",
        "    - Với $k = 1: A^k = A$\n",
        "    - Với $k\\mod 2\\ = 0:\\  A^k = A^{k/2} * A^{k/2}$\n",
        "    - Với $k\\mod 2\\ != 0: A^k = A^{k/2}*A^{k/2} *A $ \n",
        "    - Lặp lại cách tính với $A^{k/2}$\n",
        "\n",
        "Với cách tính này chúng ta chỉ cần tính $A^{k/2}$ là có thể tính được $A^k$, (lặp cách tính đối với $A^{k/2}$). \n",
        "\n",
        "Chi phí tính toán giảm từ $O(k)$ xuống còn $O(logk)$ (thoả mãn bài toán)\n"
      ]
    },
    {
      "cell_type": "markdown",
      "metadata": {
        "id": "5TBUHV6NWa-c",
        "colab_type": "text"
      },
      "source": [
        "###Pseudocode\n",
        "\n",
        "\n",
        "```\n",
        "def pow(A,k):\n",
        "    if k == 1 then return A\n",
        "    T = pow(A,k//2)\n",
        "    res = T*T\n",
        "    if k mod 2 == 0 then return res\n",
        "    else return res*A\n",
        "\n",
        "START\n",
        "    input(n,k)\n",
        "    initialize T =[[1,1],[1,0]]\n",
        "    F = pow(T,2*k)\n",
        "    print(F[0][0]*n)\n",
        "END\n",
        "\n",
        "```\n",
        "\n"
      ]
    },
    {
      "cell_type": "markdown",
      "metadata": {
        "id": "HyaZIXoyHokr",
        "colab_type": "text"
      },
      "source": [
        "#Code\n",
        "- Hàm $mul(A,B)$ để tính tích 2 ma trận $A*B$ với $A, B$ là ma trận có kích thước $2*2$\n",
        "- Hàm $pow(A,n)$ để tính $A^n$ với $A$ là ma trận, $n$ là số nguyên dương.\n",
        "\n",
        "Kết quả: ![image.png](https://i.postimg.cc/MGbnMjzF/image.png)"
      ]
    },
    {
      "cell_type": "code",
      "metadata": {
        "id": "KHj-UTK7H3Is",
        "colab_type": "code",
        "colab": {}
      },
      "source": [
        "#Initialize mod\n",
        "mod = int(1e9+7)\n",
        "\n",
        "#return matrix A*B\n",
        "def mul(a,b):\n",
        "    global mod    \n",
        "    x = a[0][0]*b[0][0]+a[0][1]*b[1][0]\n",
        "    y = a[0][0]*b[0][1]+a[0][1]*b[1][1]\n",
        "    z = a[1][0]*b[0][0]+a[1][1]*b[1][0]\n",
        "    t = a[1][0]*b[0][1]+a[1][1]*b[1][1]\n",
        "    x,y,z,t = map(lambda x: x % mod, (x,y,z,t))\n",
        "    return [[x,y],[z,t]] \n",
        "\n",
        "#return a^n\n",
        "def pow(a,n):\n",
        "    if n == 1:\n",
        "        return a\n",
        "    elif n%2 == 0:\n",
        "        t = pow(a,n/2)\n",
        "        return mul(t,t)\n",
        "    else:\n",
        "        t = pow(a,(n-1)/2)\n",
        "        \n",
        "        return mul(mul(t,t),a)\n",
        "\n",
        "def solve():\n",
        "    global mod\n",
        "    n,k = map(int,input().split())\n",
        "    res = pow([[1,1],[1,0]],k*2)\n",
        "    print ((res[0][0]*n)%mod)\n",
        "\n",
        "solve()\n",
        "    "
      ],
      "execution_count": null,
      "outputs": []
    }
  ]
}
