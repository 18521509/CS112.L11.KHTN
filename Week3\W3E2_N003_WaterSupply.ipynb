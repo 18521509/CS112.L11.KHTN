{
  "nbformat": 4,
  "nbformat_minor": 0,
  "metadata": {
    "colab": {
      "name": "W3E2_N003_WaterSupply",
      "provenance": [],
      "collapsed_sections": [],
      "toc_visible": true,
      "authorship_tag": "ABX9TyOvetYf7jh9yXsPSoa8+41X",
      "include_colab_link": true
    },
    "kernelspec": {
      "name": "python3",
      "display_name": "Python 3"
    }
  },
  "cells": [
    {
      "cell_type": "markdown",
      "metadata": {
        "id": "view-in-github",
        "colab_type": "text"
      },
      "source": [
        "<a href=\"https://colab.research.google.com/github/18521509/CS112.L11.KHTN/blob/master/Week3%5CW3E2_N003_WaterSupply.ipynb\" target=\"_parent\"><img src=\"https://colab.research.google.com/assets/colab-badge.svg\" alt=\"Open In Colab\"/></a>"
      ]
    },
    {
      "cell_type": "markdown",
      "metadata": {
        "id": "Mw4OApeivMZO"
      },
      "source": [
        "##Nhóm 003\n",
        "\n",
        "---\n",
        "\n",
        "\n",
        "- Nguyễn Khánh Toàn - 18521509\n",
        "- Nguyễn Trần Trung - 18521555\n",
        "- Nguyễn Lâm Quỳnh - 18521326\n",
        "\n",
        "![](https://i.postimg.cc/k445hYdx/logo-uit.png)"
      ]
    },
    {
      "cell_type": "markdown",
      "metadata": {
        "id": "7hqkIirbvOHH"
      },
      "source": [
        "#Đề bài: KHÔI PHỤC HỆ THỐNG CẤP NƯỚC (1s, 100MB)\n",
        "\n",
        "---\n",
        "\n",
        "\n",
        "\n",
        "\n",
        "Vùng đất diệu kỳ Wonderland có N hộ gia đình đã được trang bị một hệ thống cung cấp nước sạch đến từng ngôi nhà. Mỗi đường ống nối trực tiếp 2 nhà, nước chảy trong đường ống theo 2 chiều, có thể truyền qua nhiều trung gian trước khi đến một nhà nào đó. Trong hồ sơ lưu trữ, các ngôi nhà được ghi số từ 1 đến N.\n",
        "\n",
        "Một trận động đất đã gây nên sự cố nghiêm trọng làm cho cả vùng bị chia cắt thành nhiều khu vực rời nhau, không còn tiếp cận được với nguồn nước. Để khắc phục, những người có trách nhiệm đã khảo sát hiện trạng và ghi nhận được toàn vùng đất đang thảm họa vẫn còn M đường ống đang hoạt động tốt.\n",
        "\n",
        "Nhiệm vụ đặt ra là phải khôi phục hệ thống cấp nước bằng cách lắp thêm một số đường ống. Tuy nhiên, do hạn chế về thời gian và kinh phí nên đòi hỏi phương án khôi phục phải được thực hiện với ít đường ống được lắp thêm nhất. Câu hỏi đặt ra: cần lắp thêm ít nhất bao nhiêu đường ống để hệ thống cấp nước có thể đưa nước đến từng ngôi nhà. Câu hỏi phụ: có bao nhiêu phương án khác nhau đáp ứng yêu cầu; số phương án có thể khá lớn nên chỉ cần đưa ra số dư khi chia cho 109+7.\n",
        "\n",
        "Dữ liệu: Vào từ thiết bị nhập chuẩn:\n",
        "\n",
        "Dòng đầu tiên chứa 2 số nguyên $N, M$ ($1 ≤ N, M  ≤ 10^5$)\n",
        "\n",
        "Mỗi dòng trong M dòng tiếp theo chứa 2 số nguyên $a, b$ ($1 ≤ a,  b ≤ N$). cho biết vẫn còn đường ống nối nhà a với nhà b\n",
        "\n",
        "Kết quả: Đưa ra thiết bị xuất chuẩn số đường ống cần được lắp thêm và số phương án đáp ứng yêu cầu (theo mô đun $10^9+7$) mỗi số trên một dòng.\n",
        "Dữ liệu mẫu:\n",
        "\n",
        "| Input | Output |\n",
        "| -:- | -: |\n",
        "| 3 1 | 1 |\n",
        "| 1 2 | 2 |\n"
      ]
    },
    {
      "cell_type": "markdown",
      "metadata": {
        "id": "rtPNCeHnwhyo"
      },
      "source": [
        "#Bài làm\n",
        "\n",
        "---\n"
      ]
    },
    {
      "cell_type": "markdown",
      "metadata": {
        "id": "QjjMKBl1zOO_"
      },
      "source": [
        "##Abstraction: \n",
        "**Cho đồ thị vô hướng $n$ đỉnh và $m$ cạnh ( $1 \\le n,m \\le 10^5$). Tìm số cạnh tối thiểu để liên thông đồ thị và số cách ứng với số cạnh đó.**\n"
      ]
    },
    {
      "cell_type": "markdown",
      "metadata": {
        "id": "j37QVYvozkm4"
      },
      "source": [
        "## Pattern recognition:\n",
        "- Đồ thị\n",
        "- Liên thông đồ thị\n",
        "- Cây khung\n"
      ]
    },
    {
      "cell_type": "markdown",
      "metadata": {
        "id": "KMGx3rkSz5lW"
      },
      "source": [
        "## Thuật toán\n",
        "- Đây là bài toán liên thông đồ thị. \n",
        "- Trước hết cần tìm các miền liên thông đồ thị (gọi số miền là $k$)\n",
        "- Gọi $R_1, R_2...R_k$ là số đỉnh trong mỗi miền liên thông\n",
        "- Để số cạnh là tối thiểu, thì đồ thị sau khi liên thông chính là cây khung của $k$ miền liên thông, số cạnh cần thêm là $k-1$\n",
        "- Theo công thức Cayley một đồ thị đầy đủ n đỉnh có số cây khung là: $n^{n-2}$ (Xem thêm [công thức Cayley về cây bao trùm](https://vi.wikipedia.org/wiki/C%C3%A2y_bao_tr%C3%B9m))\n",
        "- Do mỗi miền liên thông có $R_i$ đỉnh và có tổng số $n$ đỉnh ứng với $k$ miền liên thông cho nên số cách liên thông là: \n",
        "\n",
        ">$\\displaystyle n^{k-2}*{\\prod _{i=1}^{k}R_i} $\n",
        "\n",
        "- Độ phức tạp: $O(m+n)$ Thoả mãn bài toán\n",
        "\n",
        "\n",
        "\n"
      ]
    },
    {
      "cell_type": "markdown",
      "metadata": {
        "id": "A9SXDNQa53a5"
      },
      "source": [
        "###Pseudocode\n",
        "\n",
        "\n",
        "```\n",
        "START:\n",
        "    input(n,m)\n",
        "    input(ListEDGE)\n",
        "    R = []\n",
        "    for i in range(n):\n",
        "        if is_not_visited(i):\n",
        "            R.append(len(list_conected(i)))\n",
        "    ouput(n^(len(R)-2)*product(R))\n",
        "END\n",
        "```\n",
        "\n"
      ]
    },
    {
      "cell_type": "markdown",
      "metadata": {
        "id": "5z7ynwQp7Yoo"
      },
      "source": [
        "##Code\n"
      ]
    },
    {
      "cell_type": "code",
      "metadata": {
        "id": "se8H3B2F7b7g"
      },
      "source": [
        "def bfs(u,T,F):\n",
        "    i = 0\n",
        "    q = [u]\n",
        "    T.add(u)  \n",
        "    while i < len(q):\n",
        "        u = q[i]\n",
        "        i += 1\n",
        "        if u not in F:\n",
        "            continue\n",
        "        for v in F[u]:\n",
        "            if v not in T:\n",
        "                T.add(v)\n",
        "                q.append(v)    \n",
        "    return len(q)\n",
        "def solve():\n",
        "    n, m = map(int, input().split())\n",
        "    T = set()\n",
        "    F ={}\n",
        "    for _ in range(m):\n",
        "        a, b = map(int, input().split())\n",
        "        try:\n",
        "            F[a].append(b)\n",
        "        except:\n",
        "            F[a] = [b]\n",
        "        try:\n",
        "            F[b].append(a)\n",
        "        except:\n",
        "            F[b] = [a]\n",
        "\n",
        "    R = []\n",
        "    for i in range(1,n+1):\n",
        "        if i not in T:\n",
        "            R.append(bfs(i,T,F))\n",
        "    print(len(R) - 1)\n",
        "    ans = 0\n",
        "\n",
        "    if len(R) > 1:\n",
        "        mod = int(1e9 + 7)\n",
        "        ans = 1\n",
        "\n",
        "        for _ in range(len(R) - 2):\n",
        "            ans = (ans*n) % mod\n",
        "        for x in R:\n",
        "            ans = (ans * x) % mod\n",
        "        \n",
        "    print(ans)\n",
        "solve()"
      ],
      "execution_count": null,
      "outputs": []
    }
  ]
}