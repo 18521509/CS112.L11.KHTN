{
  "nbformat": 4,
  "nbformat_minor": 0,
  "metadata": {
    "colab": {
      "name": "Abtraction.ipynb",
      "provenance": [],
      "collapsed_sections": [],
      "authorship_tag": "ABX9TyM+wBq0yQrCHZKPx9BgDXZf",
      "include_colab_link": true
    },
    "kernelspec": {
      "name": "python3",
      "display_name": "Python 3"
    }
  },
  "cells": [
    {
      "cell_type": "markdown",
      "metadata": {
        "id": "view-in-github",
        "colab_type": "text"
      },
      "source": [
        "<a href=\"https://colab.research.google.com/github/18521509/CS112.L11.KHTN/blob/master/Week1/Abtraction.ipynb\" target=\"_parent\"><img src=\"https://colab.research.google.com/assets/colab-badge.svg\" alt=\"Open In Colab\"/></a>"
      ]
    },
    {
      "cell_type": "code",
      "metadata": {
        "id": "3-2e5eZGup5G",
        "colab_type": "code",
        "colab": {}
      },
      "source": [
        "#Abstraction: Sau quá trình Pattern Recognition, sẽ có nhiều chi tiết không thật sự liên quan đến vấn đề mà chúng ta đang giải quyết.\n",
        "#             Những chi tiết này sẽ được loại bỏ trong quá trình Abstraction để có thể dễ dàng hơn trong việc giải quyết vấn đề.\n",
        "#             \n",
        "#Abstraction: After Pattern Recognition process, there are many details that are not necessary for solving problems. These details wil be\n",
        "#             removed in Abstraction process to making the issue more easy to think about."
      ],
      "execution_count": null,
      "outputs": []
    }
  ]
}