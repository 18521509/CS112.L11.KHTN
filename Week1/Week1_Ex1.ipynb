{
  "nbformat": 4,
  "nbformat_minor": 0,
  "metadata": {
    "colab": {
      "name": "Week1_Ex1",
      "provenance": [],
      "collapsed_sections": []
    },
    "kernelspec": {
      "name": "python3",
      "display_name": "Python 3"
    }
  },
  "cells": [
    {
      "cell_type": "markdown",
      "metadata": {
        "id": "7Gq3XDjDAjvo",
        "colab_type": "text"
      },
      "source": [
        "#Tóm tắt bài toán:\n",
        "\n",
        "\n",
        "---\n",
        "\n",
        "* Cho dãy các số nguyên có n phần tử:  `A1, A2...An (n <= 1e6, |A[i]| <= 1e9)`\n",
        "\n",
        "* Tìm `p, q (p <= q)` sao cho tổng `A[p]..A[q]` lớn nhất.\n",
        "\n",
        "* Đưa ra `p, q` và tổng `A[p]..A[q]`\n",
        "\n",
        "##Xác định Input, output:\n",
        "\n",
        "* Input: n và dãy A có n phần tử\n",
        "\n",
        "* Output: `p,q`  tổng `A[p]..A[q]`\n",
        "\n",
        "##Dạng bài toán:\n",
        "* Tìm dãy con liên tục có tổng lớn nhất"
      ]
    },
    {
      "cell_type": "markdown",
      "metadata": {
        "id": "hH03QOMmCAOv",
        "colab_type": "text"
      },
      "source": [
        "#Ý tưởng\n",
        "\n",
        "\n",
        "---\n",
        "\n",
        "\n",
        "- Tạo dãy tổng tiền tố S, `S[i] = Sum(A[0:i])`\n",
        "\n",
        "- Tổng đoạn `A[p:q] = S[q] - S[p-1]`\n",
        "\n",
        "\n",
        "- Sử dụng dãy M, `M[i]` lưu chỉ số của phần từ nhỏ nhất trong đoạn `S[1]..S[i]`\n",
        "\n",
        "- Giả sử đoạn kết thúc ở q, để tổng lớn nhất thì tìm p <= q sao cho `S[p-1]` là nhỏ nhất.\n",
        "\n",
        "- `p-1` cần tìm chính là `M[q-1]`. Do `M[q-1]` lưu chỉ số của phần tử nhỏ nhất trong đoạn `S[1]..S[q-1]`\n",
        "\n",
        "- Với mỗi q thuộc đoạn `1..n` ta tìm được 1 bộ `p,q,S` (S là tổng của đoạn `A[p]..A[q]` và S lớn nhất.\n",
        "\n",
        "- Kết quả cần tìm là bộ kết của có tổng S lớn nhất."
      ]
    },
    {
      "cell_type": "markdown",
      "metadata": {
        "id": "-PhZoWmbqnSe",
        "colab_type": "text"
      },
      "source": [
        "#Thuật toán và chương trình.\n",
        "\n",
        "\n",
        "---\n",
        "\n"
      ]
    },
    {
      "cell_type": "markdown",
      "metadata": {
        "id": "gCajKoT_rPyU",
        "colab_type": "text"
      },
      "source": [
        "## Nhập dữ liệu\n",
        "Ta thêm 1 phần tử 0 vào đầu dãy để tránh phải xử lý thêm trường hợp p = 0 (không tồn tại `S[q-1]` để tính). \n"
      ]
    },
    {
      "cell_type": "code",
      "metadata": {
        "id": "10P-p3A7rzvP",
        "colab_type": "code",
        "colab": {
          "base_uri": "https://localhost:8080/",
          "height": 50
        },
        "outputId": "11d3da50-7185-4386-8fd4-6c28badc1ad0"
      },
      "source": [
        "n = int(input())\n",
        "A = list(map(int,input().split(' ')))\n",
        "A.insert(0,0)"
      ],
      "execution_count": 1,
      "outputs": [
        {
          "output_type": "stream",
          "text": [
            "16\n",
            "2 -4 5 -8 4 -1 -1 1 1 1 -2 2 4 -6 9 -4\n"
          ],
          "name": "stdout"
        }
      ]
    },
    {
      "cell_type": "markdown",
      "metadata": {
        "id": "kU43mG6rr00C",
        "colab_type": "text"
      },
      "source": [
        "##Tạo dãy tổng tiền tố S"
      ]
    },
    {
      "cell_type": "code",
      "metadata": {
        "id": "EQlhbXU0r-pb",
        "colab_type": "code",
        "colab": {}
      },
      "source": [
        "S = [0] * (n+1)\n",
        "S[0] = A[0]\n",
        "\n",
        "for i in range(1,n+1):\n",
        "    S[i] = A[i]+S[i-1]"
      ],
      "execution_count": 2,
      "outputs": []
    },
    {
      "cell_type": "markdown",
      "metadata": {
        "id": "zeJx2-A8sDnE",
        "colab_type": "text"
      },
      "source": [
        "##Tạo dãy M lưu chỉ số phần tử nhỏ nhất của dãy S\n",
        "`M[i-1]` lưu chỉ số phần tử nhỏ nhất đoạn `S[1]..S[i]` nên 1S[M[i-1]]1 chính là `Min(S[1]..S[i-1])`"
      ]
    },
    {
      "cell_type": "code",
      "metadata": {
        "id": "Dgzl_S3dsL9Q",
        "colab_type": "code",
        "colab": {}
      },
      "source": [
        "M = [0] * (n+1)\n",
        "\n",
        "for i in range(1,n+1):\n",
        "    if S[i] < S[M[i-1]]:\n",
        "        M[i] = i\n",
        "    else:\n",
        "        M[i] = M[i-1]\n"
      ],
      "execution_count": 3,
      "outputs": []
    },
    {
      "cell_type": "markdown",
      "metadata": {
        "id": "aePxBdoFs07I",
        "colab_type": "text"
      },
      "source": [
        "##Thực hiện tìm kiếm bộ `p,q,s`\n",
        "\n",
        "Giả sử bộ số có tổng lớn nhất ban đầu là `1, 1, S[1]`\n",
        "\n",
        "Gán `p, q, max_sum = 1, 1, S[1]`\n",
        "\n",
        "Thực hiện vòng lặp i chạy từ 2 -> n\n",
        "\n",
        "Chỉ số của phần tử nhỏ nhất trong đoạn `S[1]..S[i-1]` là `M[i-1]`\n",
        "\n",
        "Tổng lớn nhất của đoạn kết thúc tại i chính là `S[i] - S[M[i-1]`\n",
        "\n",
        "Nếu tổng này lớn hơn `max_sum` thì gán `max_sum = S[i] - S[M[i-1]`  và cập nhật lại giá trị `p, q`\n",
        "\n",
        "Sau khi kết thúc vòng lặp đưa ra kết quả."
      ]
    },
    {
      "cell_type": "code",
      "metadata": {
        "id": "gcwxbBJCtMuW",
        "colab_type": "code",
        "colab": {
          "base_uri": "https://localhost:8080/",
          "height": 34
        },
        "outputId": "90e171fb-5bc0-4391-a0fd-25298d15ed8d"
      },
      "source": [
        "max_sum = S[1]\n",
        "p,q=1,1\n",
        "\n",
        "for i in range(2,n+1):\n",
        "    if S[i] - S[M[i-1]] > max_sum:\n",
        "        max_sum = S[i] - S[M[i-1]]\n",
        "        p,q = M[i-1]+1, i\n",
        "\n",
        "print(p,q,max_sum)"
      ],
      "execution_count": 4,
      "outputs": [
        {
          "output_type": "stream",
          "text": [
            "5 15 12\n"
          ],
          "name": "stdout"
        }
      ]
    }
  ]
}