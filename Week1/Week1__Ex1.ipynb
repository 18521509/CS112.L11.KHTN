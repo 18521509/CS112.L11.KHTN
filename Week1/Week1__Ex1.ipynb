{
  "nbformat": 4,
  "nbformat_minor": 0,
  "metadata": {
    "colab": {
      "name": "Week1_Ex1",
      "provenance": [],
      "collapsed_sections": [],
      "toc_visible": true
    },
    "kernelspec": {
      "name": "python3",
      "display_name": "Python 3"
    }
  },
  "cells": [
    {
      "cell_type": "markdown",
      "metadata": {
        "id": "7Gq3XDjDAjvo",
        "colab_type": "text"
      },
      "source": [
        "#Abstraction:\n",
        "\n",
        "\n",
        "---\n",
        "\n",
        "Cho dãy số nguyên A có n phần tử, tìm cặp số nguyên p, q sao cho `1<= p <= q <= n` và tổng `A[p]..A[q]` là lớn nhất. "
      ]
    },
    {
      "cell_type": "markdown",
      "metadata": {
        "id": "hH03QOMmCAOv",
        "colab_type": "text"
      },
      "source": [
        "#Pattern Recognition:\n",
        "\n",
        "\n",
        "---\n",
        "* Tên dạng bài toán: Tìm dãy con liên tục có tổng lớn nhất.\n",
        "* Kĩ thuật áp dụng, sử dụng tổng tiền tố.\n",
        "* Ý tưởng:\n",
        "    - Tạo dãy tổng tiền tố S, `S[i] = Sum(A[0:i])`\n",
        "\n",
        "    - Tổng đoạn `A[p:q] = S[q] - S[p-1]`\n",
        "\n",
        "    - Sử dụng dãy M, `M[i]` lưu chỉ số của phần từ nhỏ nhất trong đoạn `S[1]..S[i]`\n",
        "\n",
        "    - Giả sử đoạn kết thúc ở q, để tổng lớn nhất thì tìm p <= q sao cho `S[p-1]` là nhỏ nhất.\n",
        "\n",
        "    - `p-1` cần tìm chính là `M[q-1]`. Do `M[q-1]` lưu chỉ số của phần tử nhỏ nhất trong đoạn `S[1]..S[q-1]`\n",
        "\n",
        "    - Với mỗi q thuộc đoạn `1..n` ta tìm được 1 bộ `p,q,S` (S là tổng của đoạn `A[p]..A[q]` và S lớn nhất.\n",
        "\n",
        "    - Kết quả cần tìm là bộ kết qủa có tổng S lớn nhất."
      ]
    },
    {
      "cell_type": "markdown",
      "metadata": {
        "id": "T0m68u391sUR",
        "colab_type": "text"
      },
      "source": [
        "# Algorithm designed:\n",
        "\n",
        "\n",
        "---\n"
      ]
    },
    {
      "cell_type": "markdown",
      "metadata": {
        "id": "HBqTKUZ61247",
        "colab_type": "text"
      },
      "source": [
        "## Pseudocode\n",
        "\n",
        "```\n",
        "input(n,A)\n",
        "A.insert(0,0)\n",
        "initial S, M\n",
        "S[0] = A[0]\n",
        "for i from 1 to n:\n",
        "    S[i] = S[i-1] + A[i]\n",
        "    if i = 1 then  M[i] = S[i] else M[i] = min(M[i-1],S[i])\n",
        "\n",
        "max_sum, p, q = S[1], 1, 1\n",
        "for i form 2 to n: \n",
        "    if S[i] - S[M[i-1]] > max_sum then\n",
        "        max_sum = S[i] - S[M[i-1]]\n",
        "        p, q = M[i-1] +1 , i\n",
        "\n",
        "output(p,q, max_sum\n",
        "```\n",
        "\n"
      ]
    },
    {
      "cell_type": "markdown",
      "metadata": {
        "id": "-PhZoWmbqnSe",
        "colab_type": "text"
      },
      "source": [
        "#Program\n",
        "\n",
        "\n",
        "\n",
        "---\n",
        "\n"
      ]
    },
    {
      "cell_type": "code",
      "metadata": {
        "id": "10P-p3A7rzvP",
        "colab_type": "code",
        "colab": {
          "base_uri": "https://localhost:8080/",
          "height": 67
        },
        "outputId": "e9977248-bf76-4acc-ac54-6c4c16ec50a2"
      },
      "source": [
        "n = int(input())\n",
        "A = list(map(int,input().split(' ')))\n",
        "A.insert(0,0)\n",
        "S = [0] * (n+1)\n",
        "S[0] = A[0]\n",
        "\n",
        "for i in range(1,n+1):\n",
        "    S[i] = A[i]+S[i-1]\n",
        "    M = [0] * (n+1)\n",
        "\n",
        "for i in range(1,n+1):\n",
        "    if S[i] < S[M[i-1]]:\n",
        "        M[i] = i\n",
        "    else:\n",
        "        M[i] = M[i-1]\n",
        "max_sum = S[1]\n",
        "p,q=1,1\n",
        "\n",
        "for i in range(2,n+1):\n",
        "    if S[i] - S[M[i-1]] > max_sum:\n",
        "        max_sum = S[i] - S[M[i-1]]\n",
        "        p,q = M[i-1]+1, i\n",
        "\n",
        "print(p,q,max_sum)"
      ],
      "execution_count": 5,
      "outputs": [
        {
          "output_type": "stream",
          "text": [
            "16\n",
            "2 -4 5 -8 4 -1 -1 1 1 1 -2 2 4 -6 9 -4\n",
            "5 15 12\n"
          ],
          "name": "stdout"
        }
      ]
    }
  ]
}