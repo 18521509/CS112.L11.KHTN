{
  "nbformat": 4,
  "nbformat_minor": 0,
  "metadata": {
    "colab": {
      "name": "Computational thinking",
      "provenance": [],
      "collapsed_sections": [],
      "toc_visible": true
    },
    "kernelspec": {
      "name": "python3",
      "display_name": "Python 3"
    }
  },
  "cells": [
    {
      "cell_type": "markdown",
      "metadata": {
        "id": "qZYw3HNqgZh_",
        "colab_type": "text"
      },
      "source": [
        "#English\n",
        "\n",
        "\n",
        "---\n",
        "\n"
      ]
    },
    {
      "cell_type": "markdown",
      "metadata": {
        "id": "7LvRVG9n6qYF",
        "colab_type": "text"
      },
      "source": [
        "##Computational Thinking"
      ]
    },
    {
      "cell_type": "markdown",
      "metadata": {
        "id": "kvbkaHixgZtx",
        "colab_type": "text"
      },
      "source": [
        "\n",
        "- Thinking computationally is not programming. It is not even thinking like a computer, as computers do not, and cannot, think.\n",
        "\n",
        "- Simply put, programming tells a computer what to do and how to do it. Computational thinking enables you to work out exactly what to tell the computer to do.\n",
        "\n",
        "- Being able to turn a complex problem into one we can easily understand is a skill that is extremely useful. In fact, it's a skill you already have and probably use every day.\n",
        "\n",
        "- Computational thinking involves taking that complex problem and breaking it down into a series of small, more manageable problems (decomposition). Each of these smaller problems can then be looked at individually, considering how similar problems have been solved previously (pattern recognition) and focusing only on the important details, while ignoring irrelevant information (abstraction). Next, simple steps or rules to solve each of the smaller problems can be designed (algorithms)."
      ]
    },
    {
      "cell_type": "markdown",
      "metadata": {
        "id": "Ls3de-wC6sSZ",
        "colab_type": "text"
      },
      "source": [
        "##Decomposition"
      ]
    },
    {
      "cell_type": "markdown",
      "metadata": {
        "id": "2_g7o3L-gZ2h",
        "colab_type": "text"
      },
      "source": [
        "\n",
        " - Decomposition is breaking down a complex problem or system into smaller parts that are more manageable and easier to understand. The smaller parts can then be examined and solved, or designed individually, as they are simpler to work with.\n",
        "\n",
        " - If a problem is not decomposed, it is much harder to solve. Dealing with many different stages all at once is much more difficult than breaking a problem down into a number of smaller problems and solving each one, one at a time. Breaking the problem down into smaller parts means that each smaller problem can be examined in more detail."
      ]
    },
    {
      "cell_type": "markdown",
      "metadata": {
        "id": "sZBO60db6ttZ",
        "colab_type": "text"
      },
      "source": [
        "##Pattern recognition"
      ]
    },
    {
      "cell_type": "markdown",
      "metadata": {
        "id": "424vqIQI88Kr",
        "colab_type": "text"
      },
      "source": [
        "\n",
        "\n",
        "- When we decompose a complex problem we often find patterns among the smaller problems we create. The patterns are similarities or characteristics that some of the problems share.\n",
        "\n",
        "- Pattern recognition is one of the four cornerstones of Computer Science. It involves finding the similarities or patterns among small, decomposed problems that can help us solve more complex problems more efficiently."
      ]
    },
    {
      "cell_type": "markdown",
      "metadata": {
        "id": "Ml_flUilmJXH",
        "colab_type": "text"
      },
      "source": [
        "##Abstraction"
      ]
    },
    {
      "cell_type": "markdown",
      "metadata": {
        "id": "J82aCeZsDRht",
        "colab_type": "text"
      },
      "source": [
        "- Abstraction is the process of filtering out – ignoring - the characteristics of patterns that we don't need in order to concentrate on those that we do. It is also the filtering out of specific details. From this we create a representation (idea) of what we are trying to solve.\n",
        "\n",
        "- If we don’t abstract we may end up with the wrong solution to the problem we are trying to solve."
      ]
    },
    {
      "cell_type": "markdown",
      "metadata": {
        "id": "9VhU4o_p6u6D",
        "colab_type": "text"
      },
      "source": [
        "##Algorithm"
      ]
    },
    {
      "cell_type": "markdown",
      "metadata": {
        "id": "Kde--dOMDxBK",
        "colab_type": "text"
      },
      "source": [
        "\n",
        "- An algorithm is a plan, a set of step-by-step instructions to solve a problem. \n",
        "\n",
        "- It is important to plan out the solution to a problem to make sure that it will be correct. Using computational thinking and decomposition we can break down the problem into smaller parts and then we can plan out how they fit back together in a suitable order to solve the problem.\n",
        "\n",
        "- This order can be represented as an algorithm. An algorithm must be clear. It must have a starting point, a finishing point and a set of clear instructions in between."
      ]
    },
    {
      "cell_type": "markdown",
      "metadata": {
        "id": "Dps2bm2agZWf",
        "colab_type": "text"
      },
      "source": [
        "#Tiếng Việt\n",
        "\n",
        "\n",
        "---\n",
        "\n",
        "\n"
      ]
    },
    {
      "cell_type": "markdown",
      "metadata": {
        "id": "QHJEX-GM6w4u",
        "colab_type": "text"
      },
      "source": [
        "##Tư duy máy tính"
      ]
    },
    {
      "cell_type": "markdown",
      "metadata": {
        "id": "7m6krCXJ87oX",
        "colab_type": "text"
      },
      "source": [
        "\n",
        "- Tư duy máy tính không phải là lập trình, không phải là suy nghĩ như máy tính bởi vì máy tính không thể suy nghĩ.\n",
        "\n",
        "- Lập trình cho máy tính biết phải làm gì và làm như thế nào. Tư duy máy tính cho phép tìm ra chính xác những gì yêu cầu máy tính làm.\n",
        "\n",
        "- Tư duy máy tính là việc xử lý các vấn đề phức tạp và chia nó thành các vấn đề nhỏ, dễ quản lý hơn (phân rã - decomposition). Sau đó từng vấn đề nhỏ hơn này có thể được xem xét riêng lẻ, xem xét các vấn đề tương tự đã được giải quyết như thế nào trước đây (nhận dạng mẫu - pattern recognition) và tập trung vào các chi tiết quan trọng, đồng thời bỏ qua thông tin không liên quan (tóm tắt - abstraction). Tiếp theo, các bước, quy tắc đơn giản để giải quyết từng vấn đề nhỏ hơn được thiết kế (thuật toán  - algorithm).\n",
        "\n"
      ]
    },
    {
      "cell_type": "markdown",
      "metadata": {
        "id": "yqIhNZ406zwo",
        "colab_type": "text"
      },
      "source": [
        "##Phân rã"
      ]
    },
    {
      "cell_type": "markdown",
      "metadata": {
        "id": "TAonBC8Vr26d",
        "colab_type": "text"
      },
      "source": [
        "\n",
        "\n",
        "\n",
        "- Phân rã là việc chia nhỏ một vấn đề hoặc hệ thống phức tạp thành các phần nhỏ dễ quản lý hơn và dễ hiểu hơn. Các phần nhỏ hơn sau đó có thể được kiểm tra và giải quyết riêng lẻ, vì chúng dễ làm việc hơn.\n",
        "\n",
        "- Nếu một vấn đề không được phân rã, nó phức tạp hơn nhiều. Giải quyết nhiều vấn đề cùng một lúc sẽ khó hơn so với việc chia nhỏ ra và giải quyết từng vấn đề nhỏ một. Việc chia nhỏ ra làm cho việc xem xét các vấn đề nhỏ trở nên chi tiết hơn."
      ]
    },
    {
      "cell_type": "markdown",
      "metadata": {
        "id": "X_xMkiRG60tF",
        "colab_type": "text"
      },
      "source": [
        "##Nhận dạng mẫu"
      ]
    },
    {
      "cell_type": "markdown",
      "metadata": {
        "id": "UoqYMTRBwGLz",
        "colab_type": "text"
      },
      "source": [
        "\n",
        "- Khi chúng ta phân rã một vấn đề phức tạp, chúng ta thường tìm thấy các đặc trưng trong số các vấn đề nhỏ hơn mà chúng ta tạo ra. Các mẫu là những điểm tương đồng hoặc đặc điểm mà một số vấn đề có chung.\n",
        "\n",
        "- Nhận dạng mẫu  liên quan đến việc tìm ra những điểm tương đồng hoặc kiểu mẫu giữa các vấn đề nhỏ, được phân tách có thể giúp chúng ta giải quyết các vấn đề phức tạp hơn một cách hiệu quả hơn."
      ]
    },
    {
      "cell_type": "markdown",
      "metadata": {
        "id": "6v0E7BFi61s0",
        "colab_type": "text"
      },
      "source": [
        "##Tóm tắt"
      ]
    },
    {
      "cell_type": "markdown",
      "metadata": {
        "id": "1rr9dbExwXbS",
        "colab_type": "text"
      },
      "source": [
        "\n",
        "- Tóm tắt hóa là quá trình lọc bỏ - bỏ qua - những đặc điểm không cần thiết. Chọn ra những đặc điểm cần thiết.\n",
        "\n",
        "- Việc tóm tắt giúp dễ dàng đưa ra giải pháp."
      ]
    },
    {
      "cell_type": "markdown",
      "metadata": {
        "id": "4Z5H43WK62n3",
        "colab_type": "text"
      },
      "source": [
        "##Thuật toán"
      ]
    },
    {
      "cell_type": "markdown",
      "metadata": {
        "id": "RVw8tBj2wa8k",
        "colab_type": "text"
      },
      "source": [
        "\n",
        "- Thuật toán là một tập hợp hữu hạn các bước để giải quyết một vấn đề.\n",
        "\n",
        "- Thuật toán phải đảm bảo tính đúng. Sử dụng tư duy máy tính và phân rã, chúng ta có thể chia vấn đề thành các phần nhỏ hơn và sau đó chúng ta có thể kết hợp lại với nhau theo một trình tự phù hợp để giải quyết vấn đề.\n",
        "\n",
        "- Thứ tự này có thể được biểu diễn dưới dạng một thuật toán. Một thuật toán phải rõ ràng, đảm bảo tính dừng, tính đúng."
      ]
    },
    {
      "cell_type": "markdown",
      "metadata": {
        "id": "NE-IS2Uk64Ee",
        "colab_type": "text"
      },
      "source": [
        "#Ví dụ:\n",
        "\n",
        "\n",
        "---\n"
      ]
    },
    {
      "cell_type": "markdown",
      "metadata": {
        "id": "NHpx8_oXyNuQ",
        "colab_type": "text"
      },
      "source": [
        "Một ngày đêm đông giá lạnh, trong lòng cô đơn, bạn muốn có một ai đó để tâm sự, dãi bày hay thậm chí là muốn tiến xa hơn như kết hôn chẳng hạn. \n",
        "- Decomposition: để  có thể kết hôn -> cần phải xác định được đối tượng cần kết hôn; tán tỉnh; quan tâm chăm sóc đối tương;\n",
        "- Pattern Recognition: việc tìm kiếm một người tâm sự, dãi bày cũng như việc giải một bài toán. Để có thể giải được, ngoài yếu tố thiên bẩm thì phải cần sự quyết tâm trong đó. Trong tình yêu cũng cần sự quyết tâm để có thể thấy được sự chân thành.\n",
        "- Abstraction: để có thể tìm được đối tượng để quan tâm và hướng đến việc kết hôn, thì chúng ta cần phải tập trung vào việc mở rộng mối quan hệ và tìm kiếm những người có thể phù hợp với mình.\n",
        "- Algorithms: Tìm kiếm đối tượng -> hẹn hò ->quan tâm, chăm sóc -> phù hợp -> kết hôn"
      ]
    }
  ]
}