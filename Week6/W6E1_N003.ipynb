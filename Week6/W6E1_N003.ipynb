{
  "nbformat": 4,
  "nbformat_minor": 0,
  "metadata": {
    "colab": {
      "name": "W6E1_N003.ipynb",
      "provenance": [],
      "collapsed_sections": [
        "XZLyrDgpNeLB",
        "-uXwpQCgNoZk",
        "irjrBc-MQGoF",
        "0_mWpyURTm23",
        "2jJFn_CsUq7F",
        "xFTU7VrWU0KF"
      ],
      "include_colab_link": true
    },
    "kernelspec": {
      "name": "python3",
      "display_name": "Python 3"
    }
  },
  "cells": [
    {
      "cell_type": "markdown",
      "metadata": {
        "id": "view-in-github",
        "colab_type": "text"
      },
      "source": [
        "<a href=\"https://colab.research.google.com/github/18521509/CS112.L11.KHTN/blob/master/Week6/W6E1_N003.ipynb\" target=\"_parent\"><img src=\"https://colab.research.google.com/assets/colab-badge.svg\" alt=\"Open In Colab\"/></a>"
      ]
    },
    {
      "cell_type": "markdown",
      "metadata": {
        "id": "XZLyrDgpNeLB"
      },
      "source": [
        "##Nhóm 003\n",
        "\n",
        "---\n",
        "\n",
        "\n",
        "- Nguyễn Khánh Toàn - 18521509\n",
        "- Nguyễn Trần Trung - 18521555\n",
        "- Nguyễn Lâm Quỳnh - 18521326\n",
        "\n",
        "![](https://i.postimg.cc/k445hYdx/logo-uit.png)\n"
      ]
    },
    {
      "cell_type": "markdown",
      "metadata": {
        "id": "-uXwpQCgNoZk"
      },
      "source": [
        "#Đề bài: Mức độ giống nhau (1s, 100MB)\n",
        "\n",
        "---\n",
        "\n",
        "\n",
        "Một quần thể sinh vật ngoài hành tinh có gene tạo thành từ 26 cơ sở ký hiệu từ A tới Z. Mỗi gene là một xâu ký tự các chữ cái la tinh hoa. Hai cá thể khác nhau có gene khác nhau. Mức độ giống nhau của 2 gene sẽ xác định độ huyết thống của chúng.\n",
        "\n",
        "Độ giống nhau của gene thứ nhất đối với gene thứ 2 là số lượng cặp 2 cơ sở liên tiếp nhau trong gene thứ nhất đồng thời là cặp 2 cơ sở liên tiếp nhau trong gene thứ hai.\n",
        "\n",
        "\n",
        "\n",
        " \n",
        "\n",
        "Ví dụ, gene thứ nhất là ABBACAB, gene thứ 2 là BCABB thì mức độ giống nhau là 4.\n",
        "\n",
        " \n",
        "\n",
        "Cho hai gene. Hãy xác định mức độ giống nhau của gene thứ nhất với gene thứ 2.\n",
        "\n",
        "Dữ liệu: Vào từ thiết bị nhập chuẩn bao gồm 2 dòng chứa 2 xâu khác rỗng xác định gene thứ nhất và gene thứ 2, mỗi xâu chỉ chứa các ký tự chữ cái in hoa và có độ dài không quá 105.\n",
        "\n",
        "Kết quả: Đưa ra thiết bị xuất chuẩn một số nguyên – mức độ giống nhau của 2 genes.\n",
        "Ví dụ:\n",
        "\n",
        " **Ví dụ:**\n",
        "\n",
        "| Input | Output |\n",
        "| -:- | -: |\n",
        "| ABBACAB| 4 |\n",
        "|BCABB   | |\n",
        "\n",
        " "
      ]
    },
    {
      "cell_type": "markdown",
      "metadata": {
        "id": "irjrBc-MQGoF"
      },
      "source": [
        "#Phân tích:\n",
        "\n",
        "---\n"
      ]
    },
    {
      "cell_type": "markdown",
      "metadata": {
        "id": "AXf5FOFTTdEg"
      },
      "source": [
        "#Bài làm\n",
        "\n",
        "---\n",
        "\n"
      ]
    },
    {
      "cell_type": "markdown",
      "metadata": {
        "id": "0_mWpyURTm23"
      },
      "source": [
        "##Abstraction\n",
        "- đếm số k là số 2 ký tự liên tiếp của chuỗi A có trong chuỗi B"
      ]
    },
    {
      "cell_type": "markdown",
      "metadata": {
        "id": "2jJFn_CsUq7F"
      },
      "source": [
        "## Pattern Recognition\n",
        "- Toán"
      ]
    },
    {
      "cell_type": "markdown",
      "metadata": {
        "id": "xFTU7VrWU0KF"
      },
      "source": [
        "##Algorithm Design: Pseudocode\n",
        "```\n",
        "Input: String A, String B\n",
        "Output: the number of two continious characters of String A contain in String B \n",
        "\n",
        "Begin\n",
        "S = Seprate the String B in to set of two continous character\n",
        "Loop:\n",
        "  If two continous character of A in S:\n",
        "    count+1\n",
        "End loop\n",
        "Print(count)\n",
        "End\n",
        "\n",
        "```\n",
        "Đánh giá:\n",
        "- Độ phức tạp thuật toán: $O(n)$\n",
        "- Bộ nhớ: $O(n)$\n",
        "\n",
        "Đảm bảo thời gian chạy cho đề bài."
      ]
    },
    {
      "cell_type": "markdown",
      "metadata": {
        "id": "D7Q89t5xWB5c"
      },
      "source": [
        "## Code\n",
        "Kết quả:\n",
        "![](https://i.postimg.cc/tgTphvh6/1Capture.jpg)"
      ]
    },
    {
      "cell_type": "code",
      "metadata": {
        "id": "WH1QevMut-6i"
      },
      "source": [
        "a = input()\n",
        "b = input()\n",
        "temp = set()\n",
        "success = True\n",
        "count = 0\n",
        "for i in range(len(b) - 1):\n",
        "    temp.add(b[i]+b[i+1])\n",
        "i = 0\n",
        "n = 2\n",
        "while success:\n",
        "  if a[i:n] in temp:\n",
        "    #print(a[i:n])\n",
        "    count+=1\n",
        "  i+=1\n",
        "  n+=1\n",
        "  if n > len(a):\n",
        "    print(count)\n",
        "    success = False"
      ],
      "execution_count": null,
      "outputs": []
    }
  ]
}