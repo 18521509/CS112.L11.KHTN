{
  "nbformat": 4,
  "nbformat_minor": 0,
  "metadata": {
    "colab": {
      "name": "W6E3_N003_Dia_Lan",
      "provenance": [],
      "collapsed_sections": [],
      "authorship_tag": "ABX9TyMfBDAm/90+2uaf1iTQUi6D",
      "include_colab_link": true
    },
    "kernelspec": {
      "name": "python3",
      "display_name": "Python 3"
    }
  },
  "cells": [
    {
      "cell_type": "markdown",
      "metadata": {
        "id": "view-in-github",
        "colab_type": "text"
      },
      "source": [
        "<a href=\"https://colab.research.google.com/github/18521509/CS112.L11.KHTN/blob/master/Week6/W6E3_N003_Dia_Lan.ipynb\" target=\"_parent\"><img src=\"https://colab.research.google.com/assets/colab-badge.svg\" alt=\"Open In Colab\"/></a>"
      ]
    },
    {
      "cell_type": "markdown",
      "metadata": {
        "id": "iz4cfoEEINaL"
      },
      "source": [
        "##Nhóm 003\n",
        "\n",
        "---\n",
        "\n",
        "\n",
        "- Nguyễn Khánh Toàn - 18521509\n",
        "- Nguyễn Trần Trung - 18521555\n",
        "- Nguyễn Lâm Quỳnh - 18521326\n",
        "\n",
        "![](https://i.postimg.cc/k445hYdx/logo-uit.png)\n"
      ]
    },
    {
      "cell_type": "markdown",
      "metadata": {
        "id": "zGIQDnLaxtQA"
      },
      "source": [
        ""
      ]
    },
    {
      "cell_type": "markdown",
      "metadata": {
        "id": "REo9Ddy_xs2A"
      },
      "source": [
        "#Đề bài ĐỊA LAN (1s, 100MB)\n",
        "Giáo sư Braun đã lai giống tạo ra n loại địa lan mới độc đáo. Mỗi loại địa lan được trồng trong một chậu riêng và được ghi một số thể hiện đặc điểm gene của loại hoa đó, chậu thứ $i$ có số là $a_i$, $i = 1 ÷ n$.\n",
        "\n",
        "Hội chợ hoa địa lan thế giới mời giáo sư tham gia và giới thiệu các thành quả nghiên cứu của ông. Các chậu hoa do ông mang tới sẽ được đặt trên k đôn dọc theo đường đi dẫn tới gian hàng chính của hội chợ. \n",
        "\n",
        "Muốn gây ấn tượng mạnh cho những người tham dự, đặc biệt là các nhà khoa học Giáo sư yêu cầu trợ lý của mình chọn k chậu sao cho khi thực hiện phép AND số trên các chậu hoa tới (nếu xét chúng ở dạng biểu diễn nhị phân) sẽ có kết quả bằng 0.\n",
        "\n",
        "Hãy xác định xem người trợ lý có thể chọn được k chậu như vậy hay không và đưa ra thông báo “$YES$” hoặc “$NO$”.\n",
        "\n",
        "Dữ liệu: Vào từ thiết bị nhập chuẩn:\n",
        "\n",
        "Dòng đầu tiên chứa 2 số nguyên $n$ và $k$ ($1 ≤ n ≤ 2×10^4$, $1 ≤ k ≤ n$),\n",
        "Dòng thứ 2 chứa n số nguyên $a_1, a_2, . . ., a_n$ ($0 ≤ a_i < 2^{12}, i = 1 ÷ n$).\n",
        "Kết quả: Đưa ra thiết bị xuất chuẩn thông báo tìm được."
      ]
    },
    {
      "cell_type": "markdown",
      "metadata": {
        "id": "wlSZKgEoy_eB"
      },
      "source": [
        "#Bài làm\n",
        "\n",
        "\n",
        "---\n",
        "\n"
      ]
    },
    {
      "cell_type": "markdown",
      "metadata": {
        "id": "_BTvzOoOzGHm"
      },
      "source": [
        "##Abstraction\n",
        "Nhập vào dãy n số nguyên dương và số k, đưa ra output \"YES\" nếu có thể chọn k phần tử trong n thực hiện phép and bằng 0, ngược lại đưa ra \"NO\"\n",
        "\n"
      ]
    },
    {
      "cell_type": "markdown",
      "metadata": {
        "id": "mb_fxfOI0P2W"
      },
      "source": [
        "##Pattern recognition:\n",
        "\n",
        "- Toán\n",
        "- Thao tác xử lý trên bit\n",
        "-  Giải thuật tham lam\n"
      ]
    },
    {
      "cell_type": "markdown",
      "metadata": {
        "id": "7iaXQGlO0ctL"
      },
      "source": [
        "#Thuật toán\n",
        "\n",
        " - B1: Nhập dữ liệu\n",
        " - B2: Tìm phần tử có số bit 0 lớn nhất (xét trên 12 bit vì $a_i \\le 2^{12}, i = 1 ÷ n$ ), gán bằng tmp\n",
        " - B3: duyệt các phần tử trong dãy, nếu phần tử thực hiện phép AND với tmp làm thay đổi tmp thì lấy phần tử đó, cập nhật giá trị mới cho tmp, giảm k đi 1.\n",
        " - B4: Kiểm tra nếu tmp = 0 và k >= 0 thì đưa ra output \"YES\", ngược lại, đưa ra \"NO\"\n",
        "\n",
        "Độ phức tạp **$O(nlogn)$** đảm bảo yêu cầu bài toán"
      ]
    },
    {
      "cell_type": "markdown",
      "metadata": {
        "id": "9Y_77mzI1qER"
      },
      "source": [
        "##Kết quả\n",
        "![](https://i.postimg.cc/fRFqhLR4/image.png)"
      ]
    },
    {
      "cell_type": "markdown",
      "metadata": {
        "id": "qBM4srhq1jk0"
      },
      "source": [
        "##Code"
      ]
    },
    {
      "cell_type": "code",
      "metadata": {
        "id": "spPDFRq91lks"
      },
      "source": [
        "n, k = map(int,input().split())\n",
        "a = list(map(int,input().split()))\n",
        "\n",
        "def number_bit_zero(x,mask):\n",
        "    cnt = 0\n",
        "    for pos in range(12):\n",
        "        if (x >> pos) & 1 == 0 and (mask >> pos) & 1 == 1:\n",
        "            cnt += 1\n",
        "    return cnt\n",
        "\n",
        "\n",
        "#choose = [0 for _ in range(n)]\n",
        "mask = (1 << 12) - 1\n",
        "\n",
        "cnt = 0\n",
        "for pos in range(12):\n",
        "    if (mask >> pos) & 1 == 1:\n",
        "        tmp = -1\n",
        "        for x in a:\n",
        "            if (x >> pos) & 1 == 0 :\n",
        "                #print(x)\n",
        "                #print('------------------------------')\n",
        "                tmp_zero = number_bit_zero(mask & x,mask)\n",
        "        #print(tmp_zero)\n",
        "                if tmp_zero > tmp:\n",
        "                    tmp = tmp_zero\n",
        "                    arg = x\n",
        "        if (tmp == -1):\n",
        "            print('NO')\n",
        "            quit()\n",
        "\n",
        "        cnt += 1\n",
        "        mask &= arg\n",
        "    #print(mask)\n",
        "        if (mask == 0): break\n",
        "\n",
        "if cnt <= k:\n",
        "    print('YES')\n",
        "else:\n",
        "    print('NO')"
      ],
      "execution_count": null,
      "outputs": []
    }
  ]
}