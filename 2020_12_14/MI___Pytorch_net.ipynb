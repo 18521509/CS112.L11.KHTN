{
  "nbformat": 4,
  "nbformat_minor": 0,
  "metadata": {
    "accelerator": "GPU",
    "colab": {
      "name": "MI _ Pytorch net",
      "provenance": [],
      "collapsed_sections": [],
      "toc_visible": true,
      "mount_file_id": "1TFeLbOu2v7divkIuV01fUvqyA8xoXAj8",
      "authorship_tag": "ABX9TyNwnRoPCz+YNiYbUowp1gd0",
      "include_colab_link": true
    },
    "kernelspec": {
      "display_name": "Python 3",
      "name": "python3"
    }
  },
  "cells": [
    {
      "cell_type": "markdown",
      "metadata": {
        "id": "view-in-github",
        "colab_type": "text"
      },
      "source": [
        "<a href=\"https://colab.research.google.com/github/18521509/CS112.L11.KHTN/blob/master/2020_12_14/MI___Pytorch_net.ipynb\" target=\"_parent\"><img src=\"https://colab.research.google.com/assets/colab-badge.svg\" alt=\"Open In Colab\"/></a>"
      ]
    },
    {
      "cell_type": "markdown",
      "metadata": {
        "id": "E49VzTK_-aSI"
      },
      "source": [
        "#Paramerters\r\n",
        " - k: Số cụm\r\n",
        " - dir: địa chỉ lưu các output\r\n",
        " - train: số mẫu train\r\n",
        " - test: số mẫu test\r\n",
        " - epochs: số epochs\r\n"
      ]
    },
    {
      "cell_type": "code",
      "metadata": {
        "id": "ci9RF5iW-AoZ"
      },
      "source": [
        "dir = '/content/drive/MyDrive/Model/info/'\r\n",
        "k = 6\r\n",
        "train = 200\r\n",
        "test = 100\r\n",
        "epochs = 20"
      ],
      "execution_count": 43,
      "outputs": []
    },
    {
      "cell_type": "code",
      "metadata": {
        "id": "SAa6YDO5-9Zr"
      },
      "source": [
        "import os\r\n",
        "dirX = os.path.join(dir,'x_layer')\r\n",
        "dirY = os.path.join(dir,'y_layer')"
      ],
      "execution_count": 44,
      "outputs": []
    },
    {
      "cell_type": "markdown",
      "metadata": {
        "id": "UilPC7R4T6Rn"
      },
      "source": [
        "#Pytorch network"
      ]
    },
    {
      "cell_type": "code",
      "metadata": {
        "id": "6DG-l2ufSCMo"
      },
      "source": [
        "import numpy as np\n",
        "import torch\n",
        "import shutil\n",
        "import sys\n",
        "import tqdm\n",
        "from torch import nn\n",
        "import scipy.io as sio\n",
        "from multiprocessing import cpu_count\n",
        "from joblib import Parallel, delayed\n",
        "import warnings\n",
        "import numba\n",
        "from sklearn.model_selection import train_test_split\n",
        "import matplotlib.pyplot as plt\n",
        "import matplotlib\n",
        "\n",
        "class BatchGenerator():\n",
        "    def __init__(self, inputs_list, batch_size, seed=None):\n",
        "        self.inputs_list = inputs_list\n",
        "        self.batch_size = batch_size\n",
        "        self.seed = seed\n",
        "    \n",
        "        self.indices = np.arange(self.inputs_list[0].shape[0])\n",
        "        np.random.seed(self.seed)   \n",
        "        np.random.shuffle(self.indices)\n",
        "\n",
        "    def how_it_shuffled(self):\n",
        "        return [current_input[self.indices] for current_input in self.inputs_list], np.arange(len(self.indices))[self.indices]\n",
        "\n",
        "    def batch_generator(self):\n",
        "        assert(len(self.inputs_list) > 0)\n",
        "   \n",
        "        for input_array in self.inputs_list:\n",
        "            assert(input_array.shape[0] == self.inputs_list[0].shape[0])\n",
        "            \n",
        "        data_size = self.inputs_list[0].shape[0] // self.batch_size\n",
        "        \n",
        "        if self.inputs_list[0].shape[0] % self.batch_size > 0:\n",
        "            data_size += 1\n",
        "            \n",
        "        for i in range(0, data_size):\n",
        "            current_indices = self.indices[i * self.batch_size: (i + 1) * self.batch_size]     \n",
        "            yield [current_input[current_indices] for current_input in self.inputs_list]\n",
        "\n",
        "\n",
        "class MLPWithInfo(nn.Module):\n",
        "    def __init__(self, activation=nn.Tanh, output_activation=nn.Sigmoid, last_activation=nn.Sigmoid):\n",
        "        super().__init__()\n",
        "        self.representations_per_epochs = []\n",
        "        self.info_layers_numbers = [4,9,11,13,15]\n",
        "        self.has_output_activation = output_activation is not None\n",
        "        self.last_activation = last_activation\n",
        "        for param in self.parameters():\n",
        "            param.requires_grad = False\n",
        "        layers = [nn.Conv2d(in_channels = 1, out_channels = 16, kernel_size= (5,5),padding= 2),\n",
        "                  nn.BatchNorm2d(16), #16,28,28\n",
        "                  nn.Tanh(),\n",
        "                  nn.Dropout(0.2),\n",
        "                  nn.MaxPool2d((2,2)), #16,14,14\n",
        "                  nn.Conv2d(in_channels = 16, out_channels =32, kernel_size= (5,5),padding= 2),\n",
        "                  nn.BatchNorm2d(32),\n",
        "                  nn.Tanh(),\n",
        "                  nn.Dropout(0.2),\n",
        "                  nn.MaxPool2d((2,2)), #32,7,7\n",
        "                  nn.Flatten(), #1568\n",
        "                  nn.Linear(1568,128), #128\n",
        "                  nn.BatchNorm1d(128), #128\n",
        "                  nn.Tanh(), \n",
        "                  nn.Dropout(0.2),                 \n",
        "                  nn.Linear(128,10) #10\n",
        "        ]\n",
        "                 \n",
        "        self.model = nn.ModuleList(layers)\n",
        "        self.current_representations = None\n",
        "        self.reset()\n",
        "        \n",
        "    def forward(self, x):      \n",
        "        ws_epoch = []\n",
        "        current_representation = x\n",
        "\n",
        "        # self.add_info(0, x.detach().numpy())\n",
        "        next_layer_index = 0\n",
        "\n",
        "        for i, layer in enumerate(self.model):\n",
        "            current_representation = layer(current_representation)\n",
        "\n",
        "            if i == self.info_layers_numbers[next_layer_index]:\n",
        "                self.add_info(next_layer_index, current_representation.cpu().detach().numpy())\n",
        "                next_layer_index += 1\n",
        "            if next_layer_index == len(self.info_layers_numbers):\n",
        "                break\n",
        "\n",
        "        # if not self.has_output_activation:\n",
        "        #     self.add_info(next_layer_index, self.last_activation()(current_representation).detach().numpy())\n",
        "        # else:\n",
        "        #     self.add_info(next_layer_index, current_representation.detach().numpy())\n",
        "        # assert(len(ws_epoch) == len(self.model))\n",
        "        # self.representations += ws_epoch\n",
        "\n",
        "        return current_representation\n",
        "\n",
        "    def next_epoch(self):\n",
        "        self.representations_per_epochs.append(self.current_representations)\n",
        "        self.reset()\n",
        "\n",
        "    def add_info(self, layer_index, representations):\n",
        "        if self.current_representations[layer_index] is None:\n",
        "            self.current_representations[layer_index] = representations\n",
        "        else:\n",
        "            self.current_representations[layer_index] = np.concatenate([self.current_representations[layer_index],\n",
        "                                                                       representations], axis=0)\n",
        "    def reset(self):\n",
        "        self.current_representations = [None for _ in range(len(self.info_layers_numbers))]\n",
        "        self.representations_epochs = []\n"
      ],
      "execution_count": 45,
      "outputs": []
    },
    {
      "cell_type": "markdown",
      "metadata": {
        "id": "ebbTIuDj64Ej"
      },
      "source": [
        "##train"
      ]
    },
    {
      "cell_type": "code",
      "metadata": {
        "id": "_EHrLFWQ65B-"
      },
      "source": [
        "def train_network(model, X, y, X_val, y_val, batch_size=32, epochs=16):\n",
        "    \"\"\"\n",
        "    The network is trained with full batch\n",
        "    \"\"\"\n",
        "    loss_list = []\n",
        "    epoch_mean_loss = []\n",
        "    accuracy_mean_val = []\n",
        "    \n",
        "    optimizer = torch.optim.SGD(model.parameters(), lr=0.01)\n",
        "    scheduler = torch.optim.lr_scheduler.ExponentialLR(optimizer, gamma=0.97)\n",
        "    loss_fun = torch.nn.CrossEntropyLoss()\n",
        "    model.reset()\n",
        "    train_shuffles = []\n",
        "    for epoch in tqdm.tqdm(range(epochs)):\n",
        "        samples = 0\n",
        "        cum_loss = 0\n",
        "        model.reset()\n",
        "        train_batcher = BatchGenerator([X, y], batch_size)\n",
        "        train_shuffles.append(train_batcher.how_it_shuffled()[1])\n",
        "\n",
        "        for X_batch, y_batch in train_batcher.batch_generator():\n",
        "            X_batch = torch.Tensor(X_batch).cuda()\n",
        "            y_batch = torch.Tensor(y_batch).long().cuda()\n",
        "            model.train()\n",
        "            # predictions = model(X_batch)\n",
        "            predictions = model(X_batch)\n",
        "            # print('\\n',predictions)\n",
        "\n",
        "            loss = loss_fun(predictions, y_batch.reshape(-1))\n",
        "            loss.backward()\n",
        "            loss_list.append(loss.item())\n",
        "            optimizer.step()\n",
        "            optimizer.zero_grad()\n",
        "\n",
        "            samples += X_batch.shape[0]\n",
        "            cum_loss += loss.item()\n",
        "\n",
        "        scheduler.step()\n",
        "        model.next_epoch()\n",
        "\n",
        "        epoch_mean_loss.append(cum_loss / samples)\n",
        "\n",
        "        samples_val = 0\n",
        "        accuracy_val = 0\n",
        "\n",
        "        val_batcher = BatchGenerator([X_val, y_val], 1)\n",
        "\n",
        "        for X_batch, y_batch in val_batcher.batch_generator():\n",
        "            X_batch = torch.Tensor(X_batch).cuda()\n",
        "            y_batch = torch.Tensor(y_batch).cuda()\n",
        "\n",
        "            model.eval()\n",
        "    \n",
        "            predictions_logits = torch.argmax(model(X_batch).cuda(), dim=1)#.type(torch.DoubleTensor) \n",
        "            accuracy_val += ((y_batch == predictions_logits).int()).sum().item()\n",
        "            samples_val += X_batch.shape[0]\n",
        "          \n",
        "        accuracy_mean_val.append(float(accuracy_val) / samples_val)\n",
        "    return epoch_mean_loss, accuracy_mean_val, train_shuffles\n",
        "\n"
      ],
      "execution_count": 46,
      "outputs": []
    },
    {
      "cell_type": "markdown",
      "metadata": {
        "id": "BaUvSj8BS6Gf"
      },
      "source": [
        "#information process"
      ]
    },
    {
      "cell_type": "markdown",
      "metadata": {
        "id": "uqw-H4R7WPrw"
      },
      "source": [
        "## Calc infor "
      ]
    },
    {
      "cell_type": "markdown",
      "metadata": {
        "id": "DXeSMavQk2np"
      },
      "source": [
        "## get_information"
      ]
    },
    {
      "cell_type": "markdown",
      "metadata": {
        "id": "sCDB7u8xUIwF"
      },
      "source": [
        "#plot information"
      ]
    },
    {
      "cell_type": "markdown",
      "metadata": {
        "id": "qkc8bbM_UcAV"
      },
      "source": [
        "#experiments"
      ]
    },
    {
      "cell_type": "code",
      "metadata": {
        "id": "hQR0S7tbUgeS",
        "colab": {
          "base_uri": "https://localhost:8080/"
        },
        "outputId": "1d5b3839-5594-4569-89c4-9e7e1034cf95"
      },
      "source": [
        "use_cuda = torch.cuda.is_available()\n",
        "device = torch.device(\"cuda\" if use_cuda else \"cpu\")\n",
        "model = MLPWithInfo()\n",
        "model.to(device)"
      ],
      "execution_count": 47,
      "outputs": [
        {
          "output_type": "execute_result",
          "data": {
            "text/plain": [
              "MLPWithInfo(\n",
              "  (model): ModuleList(\n",
              "    (0): Conv2d(1, 16, kernel_size=(5, 5), stride=(1, 1), padding=(2, 2))\n",
              "    (1): BatchNorm2d(16, eps=1e-05, momentum=0.1, affine=True, track_running_stats=True)\n",
              "    (2): Tanh()\n",
              "    (3): Dropout(p=0.2, inplace=False)\n",
              "    (4): MaxPool2d(kernel_size=(2, 2), stride=(2, 2), padding=0, dilation=1, ceil_mode=False)\n",
              "    (5): Conv2d(16, 32, kernel_size=(5, 5), stride=(1, 1), padding=(2, 2))\n",
              "    (6): BatchNorm2d(32, eps=1e-05, momentum=0.1, affine=True, track_running_stats=True)\n",
              "    (7): Tanh()\n",
              "    (8): Dropout(p=0.2, inplace=False)\n",
              "    (9): MaxPool2d(kernel_size=(2, 2), stride=(2, 2), padding=0, dilation=1, ceil_mode=False)\n",
              "    (10): Flatten(start_dim=1, end_dim=-1)\n",
              "    (11): Linear(in_features=1568, out_features=128, bias=True)\n",
              "    (12): BatchNorm1d(128, eps=1e-05, momentum=0.1, affine=True, track_running_stats=True)\n",
              "    (13): Tanh()\n",
              "    (14): Dropout(p=0.2, inplace=False)\n",
              "    (15): Linear(in_features=128, out_features=10, bias=True)\n",
              "  )\n",
              ")"
            ]
          },
          "metadata": {
            "tags": []
          },
          "execution_count": 47
        }
      ]
    },
    {
      "cell_type": "code",
      "metadata": {
        "id": "GetAO0u-Ulkg",
        "colab": {
          "base_uri": "https://localhost:8080/"
        },
        "outputId": "c40521ad-6278-4aa8-ea87-9aa29ee1fd6e"
      },
      "source": [
        "model.info_layers_numbers"
      ],
      "execution_count": 48,
      "outputs": [
        {
          "output_type": "execute_result",
          "data": {
            "text/plain": [
              "[4, 9, 11, 13, 15]"
            ]
          },
          "metadata": {
            "tags": []
          },
          "execution_count": 48
        }
      ]
    },
    {
      "cell_type": "markdown",
      "metadata": {
        "id": "NfTWN7VU4rZG"
      },
      "source": [
        "#"
      ]
    },
    {
      "cell_type": "code",
      "metadata": {
        "id": "3CD2UY9BUsvR",
        "colab": {
          "base_uri": "https://localhost:8080/"
        },
        "outputId": "a329d590-9f65-49c1-9ca9-373f64f29d5b"
      },
      "source": [
        "from keras.datasets import mnist\n",
        "\n",
        "img_rows, img_cols = 28, 28\n",
        "# the data, split between train and test sets\n",
        "(x_train, y_train), (x_test, y_test) = mnist.load_data()\n",
        "x_train = x_train.reshape(x_train.shape[0], 1, img_rows, img_cols)\n",
        "x_test = x_test.reshape(x_test.shape[0], 1, img_rows, img_cols)\n",
        "input_shape = (1, img_rows, img_cols)\n",
        "\n",
        "y_train = y_train.reshape(-1,1,1)\n",
        "y_test = y_test.reshape(-1,1,1)\n",
        "x_train = x_train.astype('float32')\n",
        "x_test = x_test.astype('float32')\n",
        "x_train /= 255\n",
        "x_test /= 255\n",
        "\n",
        "\n",
        "X_train = x_train[:train]\n",
        "Y_train = y_train[:train]\n",
        "X_test = x_test[:test]\n",
        "Y_test = y_test[:test]\n",
        "print(f\"\\nTrain: {X_train.shape[0]}\")\n",
        "print(f\"Test: {Y_test.shape[0]}\")\n",
        "\n",
        "train_res = train_network(model, X_train, Y_train,\n",
        "                        X_test, Y_test, batch_size=16 , epochs=epochs)"
      ],
      "execution_count": 49,
      "outputs": [
        {
          "output_type": "stream",
          "text": [
            "\r  0%|          | 0/20 [00:00<?, ?it/s]"
          ],
          "name": "stderr"
        },
        {
          "output_type": "stream",
          "text": [
            "\n",
            "Train: 200\n",
            "Test: 100\n"
          ],
          "name": "stdout"
        },
        {
          "output_type": "stream",
          "text": [
            "100%|██████████| 20/20 [00:04<00:00,  4.60it/s]\n"
          ],
          "name": "stderr"
        }
      ]
    },
    {
      "cell_type": "code",
      "metadata": {
        "id": "5LD7QDRVkmUV"
      },
      "source": [
        "# predict = model(torch.cuda.FloatTensor(X_test))"
      ],
      "execution_count": 50,
      "outputs": []
    },
    {
      "cell_type": "code",
      "metadata": {
        "id": "91GI7jVDUtJG"
      },
      "source": [
        "ws = model.representations_per_epochs\n",
        "order = train_res[2]\n",
        "ws = get_aligned_representations(ws, order)"
      ],
      "execution_count": 51,
      "outputs": []
    },
    {
      "cell_type": "code",
      "metadata": {
        "id": "rKt6U5_GUuey"
      },
      "source": [
        "assert len(model.representations_per_epochs) == epochs\n",
        "assert len(model.representations_per_epochs[0]) == len(model.info_layers_numbers)\n",
        "\n",
        "for i in range(len(model.representations_per_epochs[0])):\n",
        "    assert model.representations_per_epochs[0][i].shape[0] == X_train.shape[0]"
      ],
      "execution_count": 52,
      "outputs": []
    },
    {
      "cell_type": "code",
      "metadata": {
        "id": "GOaZB4ryUuza"
      },
      "source": [
        "# plt.plot(np.arange(len(train_res[0])), train_res[0])"
      ],
      "execution_count": 53,
      "outputs": []
    },
    {
      "cell_type": "code",
      "metadata": {
        "id": "0O0kLPJOUvFE"
      },
      "source": [
        "# plt.plot(np.arange(len(train_res[1])), train_res[1])"
      ],
      "execution_count": 54,
      "outputs": []
    },
    {
      "cell_type": "code",
      "metadata": {
        "id": "-ZEKf3yuoDOT"
      },
      "source": [
        "for epoch in range(len(ws)):\n",
        "    for layer in range(len(ws[epoch])):\n",
        "        ws[epoch][layer] = ws[epoch][layer].reshape(train,-1)"
      ],
      "execution_count": 55,
      "outputs": []
    },
    {
      "cell_type": "code",
      "metadata": {
        "colab": {
          "base_uri": "https://localhost:8080/"
        },
        "id": "WrtUHKx4sBcl",
        "outputId": "a6a5a6c2-60dc-4ac1-8457-95e05c142b78"
      },
      "source": [
        "model"
      ],
      "execution_count": 56,
      "outputs": [
        {
          "output_type": "execute_result",
          "data": {
            "text/plain": [
              "MLPWithInfo(\n",
              "  (model): ModuleList(\n",
              "    (0): Conv2d(1, 16, kernel_size=(5, 5), stride=(1, 1), padding=(2, 2))\n",
              "    (1): BatchNorm2d(16, eps=1e-05, momentum=0.1, affine=True, track_running_stats=True)\n",
              "    (2): Tanh()\n",
              "    (3): Dropout(p=0.2, inplace=False)\n",
              "    (4): MaxPool2d(kernel_size=(2, 2), stride=(2, 2), padding=0, dilation=1, ceil_mode=False)\n",
              "    (5): Conv2d(16, 32, kernel_size=(5, 5), stride=(1, 1), padding=(2, 2))\n",
              "    (6): BatchNorm2d(32, eps=1e-05, momentum=0.1, affine=True, track_running_stats=True)\n",
              "    (7): Tanh()\n",
              "    (8): Dropout(p=0.2, inplace=False)\n",
              "    (9): MaxPool2d(kernel_size=(2, 2), stride=(2, 2), padding=0, dilation=1, ceil_mode=False)\n",
              "    (10): Flatten(start_dim=1, end_dim=-1)\n",
              "    (11): Linear(in_features=1568, out_features=128, bias=True)\n",
              "    (12): BatchNorm1d(128, eps=1e-05, momentum=0.1, affine=True, track_running_stats=True)\n",
              "    (13): Tanh()\n",
              "    (14): Dropout(p=0.2, inplace=False)\n",
              "    (15): Linear(in_features=128, out_features=10, bias=True)\n",
              "  )\n",
              ")"
            ]
          },
          "metadata": {
            "tags": []
          },
          "execution_count": 56
        }
      ]
    },
    {
      "cell_type": "code",
      "metadata": {
        "id": "DUSFLaN45x2Z"
      },
      "source": [
        "epochs = len(ws)\n",
        "layers = len(ws[0])\n",
        "samples = len(ws[0][0])\n",
        "for epoch in range(epochs):\n",
        "    for layer in range(layers):\n",
        "        ws[epoch][layer] = ws[epoch][layer].reshape(samples,-1)\n"
      ],
      "execution_count": 57,
      "outputs": []
    },
    {
      "cell_type": "code",
      "metadata": {
        "id": "L3X31zdYhKHG"
      },
      "source": [
        "if  os.path.exists(dirX):\n",
        "    shutil.rmtree(dirX, ignore_errors=True)\n",
        "if os.path.exists(dirY):\n",
        "    shutil.rmtree(dirY, ignore_errors=True)\n",
        "\n",
        "os.makedirs(dirY) \n",
        "os.makedirs(dirX)"
      ],
      "execution_count": 58,
      "outputs": []
    },
    {
      "cell_type": "code",
      "metadata": {
        "id": "h0EEIYjGIt-E"
      },
      "source": [
        "from matplotlib import pyplot as plt\n",
        "loss = train_res[0]\n",
        "acc = train_res[1]"
      ],
      "execution_count": 59,
      "outputs": []
    },
    {
      "cell_type": "markdown",
      "metadata": {
        "id": "055S1w7s7CYn"
      },
      "source": [
        "## Loss "
      ]
    },
    {
      "cell_type": "code",
      "metadata": {
        "id": "y7HRSjolI227",
        "colab": {
          "base_uri": "https://localhost:8080/",
          "height": 545
        },
        "outputId": "05111c5e-e1ae-448d-986b-3ad4b4964b10"
      },
      "source": [
        "plt.figure(figsize = (16,9))\n",
        "plt.plot(loss)\n",
        "plt.show()"
      ],
      "execution_count": 60,
      "outputs": [
        {
          "output_type": "display_data",
          "data": {
            "image/png": "[encoded data removed]",
            "text/plain": [
              "<Figure size 1152x648 with 1 Axes>"
            ]
          },
          "metadata": {
            "tags": [],
            "needs_background": "light"
          }
        }
      ]
    },
    {
      "cell_type": "code",
      "metadata": {
        "colab": {
          "base_uri": "https://localhost:8080/",
          "height": 545
        },
        "id": "r6oKgUy_7IbV",
        "outputId": "8d27b024-a7b4-4c3a-9257-d7b580d44b11"
      },
      "source": [
        "plt.figure(figsize = (16,9))\r\n",
        "plt.plot(acc)\r\n",
        "plt.show()"
      ],
      "execution_count": 61,
      "outputs": [
        {
          "output_type": "display_data",
          "data": {
            "image/png": "[encoded data removed]",
            "text/plain": [
              "<Figure size 1152x648 with 1 Axes>"
            ]
          },
          "metadata": {
            "tags": [],
            "needs_background": "light"
          }
        }
      ]
    },
    {
      "cell_type": "markdown",
      "metadata": {
        "id": "TvpCnIr57F5A"
      },
      "source": [
        "##Accuracy"
      ]
    },
    {
      "cell_type": "markdown",
      "metadata": {
        "id": "1OVrpHlOpcCx"
      },
      "source": [
        "#CALC MI\r\n",
        "\r\n",
        "- Lưu output và lệnh tính mutual information"
      ]
    },
    {
      "cell_type": "code",
      "metadata": {
        "id": "ULfe9lHTqDnC"
      },
      "source": [
        "def command(exe, name, x,y, n, k, out):\n",
        "    return f'{exe} {name} {x} {y} {n} {k} {out}\\n'\n",
        "\n",
        "n_samples = train\n",
        "\n",
        "mi_x = open(os.path.join(dirX,'mi_x_layer.sh'), 'w')\n",
        "mi_y = open(os.path.join(dirY,'mi_y_layer.sh'), 'w')\n",
        "X_train = X_train.reshape(n_samples,-1)\n",
        "\n",
        "y = [str(i) for i in Y_train]\n",
        "x = X_train\n",
        "\n",
        "dimX = X_train.shape[1]\n",
        "dimY = 1\n",
        "\n",
        "epochs = len(ws)\n",
        "layers = len(ws[0])\n",
        "samples = len(ws[0][0])\n",
        "\n",
        "exe = './MI'\n",
        "outX = [f'X_{layer:0>2}.txt' for layer in range(layers)]\n",
        "outY = [f'Y_{layer:0>2}.txt' for layer in range(layers)]\n",
        "\n",
        "\n",
        "\n",
        "for epoch in range(epochs):\n",
        "    for layer in range(layers):\n",
        "        dimLayer = len(ws[epoch][layer][0])\n",
        "        name = f'{epoch:0>2}_{layer:0>2}.txt'\n",
        "\n",
        "        fileX = open(os.path.join(dirX,name),'w')\n",
        "        fileY = open(os.path.join(dirY,name),'w')\n",
        "\n",
        "        for i in range(samples):\n",
        "            str_info = ' '.join([f'{ws[epoch][layer][i][k]:.4f}' for k in range(len(ws[epoch][layer][i]))])\n",
        "            x_infor  =  ' '.join([f'{x[i][j]:.4f}' for j in range(len(x[i]))])\n",
        "            lineX = x_infor + ' '+ str_info + '\\n'\n",
        "            lineY = y[i] + ' ' + str_info + '\\n'\n",
        "            fileX.write(lineX)\n",
        "            fileY.write(lineY)\n",
        "        fileX.close()\n",
        "        fileY.close()\n",
        "        shX = command(exe, name, dimX, dimLayer, n_samples, k, outX[layer])\n",
        "        shY = command(exe, name, dimY , dimLayer, n_samples, k, outY[layer])\n",
        "        mi_x.write(shX)\n",
        "        mi_y.write(shY)\n",
        "mi_x.close()\n",
        "mi_y.close()\n"
      ],
      "execution_count": 62,
      "outputs": []
    }
  ]
}