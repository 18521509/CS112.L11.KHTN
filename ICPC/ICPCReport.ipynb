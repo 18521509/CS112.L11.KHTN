{
  "nbformat": 4,
  "nbformat_minor": 0,
  "metadata": {
    "colab": {
      "name": "ICPCReport.ipynb",
      "provenance": [],
      "collapsed_sections": [],
      "toc_visible": true,
      "include_colab_link": true
    },
    "kernelspec": {
      "name": "python3",
      "display_name": "Python 3"
    }
  },
  "cells": [
    {
      "cell_type": "markdown",
      "metadata": {
        "id": "view-in-github",
        "colab_type": "text"
      },
      "source": [
        "<a href=\"https://colab.research.google.com/github/18521509/CS112.L11.KHTN/blob/master/ICPC/ICPCReport.ipynb\" target=\"_parent\"><img src=\"https://colab.research.google.com/assets/colab-badge.svg\" alt=\"Open In Colab\"/></a>"
      ]
    },
    {
      "cell_type": "markdown",
      "metadata": {
        "id": "yFkq3ull3ycj"
      },
      "source": [
        "#Báo cáo kì thi ICPC miền Bắc và miền Trung ngày 1-11-2010\n",
        "#Nhóm 3, Đội UIT.TTQ\n",
        "<div>\n",
        "<img src=\"https://i.postimg.cc/k445hYdx/logo-uit.png\" width=\"200\"/>\n",
        "<img src=\"https://www.hmc.edu/about-hmc/wp-content/uploads/sites/2/2019/01/icpc19.png\" width=\"250\"/>\n",
        "</div>\n",
        "\n",
        "- Thành viên:\n",
        " - Nguyễn Khánh Toàn\n",
        " - Nguyễn Trần Trung\n",
        " - Nguyễn Lâm Quỳnh\n",
        "\n",
        " "
      ]
    },
    {
      "cell_type": "markdown",
      "metadata": {
        "id": "t_ZVb4u34Kw9"
      },
      "source": [
        "#Problem A: Souvenir\n",
        "\n",
        "Problem description:\n",
        "  \n",
        ">  Mr.Bean is selected to be a contestant member of Elon_Musk's University which is located in Mars to compete in IPCP Can Tho. This will be the first time he visits the city of Can Tho and the Mekong Delta\n",
        "  \n",
        ">  Next to the hotell he stays in Can Tho is a souvenir shop where you can buy all specialties of this region. The sop has N items, numbered 1 to N. Item is has the price of i dong. Bean has K dong and he wants to buy as many distince items as possible.\n",
        "  \n",
        ">  Given N and K, your task is to calculate how many different items Mr.Bean can buy?\n",
        "\n",
        "Input:\n",
        "  \n",
        " > The input consists of multiple test cases. It starts with T - the number of test cases. Then each test case is printed in one line, containing two integers N and K. ( 1 < = N < = 100, 0 < = K < = 10000)\n",
        "\n",
        "Output:\n",
        "  \n",
        " > For each test case, print the maximal number of souvenirs Mr.Bean can buy.\n"
      ]
    },
    {
      "cell_type": "markdown",
      "metadata": {
        "id": "4so_X90655OO"
      },
      "source": [
        "#### Abtraction:\n",
        "Tìm X lớn nhất sao cho $X \\le N$ và $\\sum_{i=1}^{X} i \\le K$\n",
        "#### Pattern Recognition\n",
        "- Bisection\n",
        "- Math\n",
        "#### Algorithm:\n",
        "- $\\sum_{i=1}^{X} i = X*(X+1)/2$\n",
        "- Tìm X lớn nhất sao cho  $X \\le N$ và $X*(X+1)/2 \\le K$\n",
        "- Vì X*(X+1) đồng biến nên có thể sử dụng chặt nhị phân để tìm X thoả mãn.\n",
        "#### Code: "
      ]
    },
    {
      "cell_type": "code",
      "metadata": {
        "id": "pyyxyvsceKHd"
      },
      "source": [
        "#include <bits/stdc++.h>\n",
        "using namespace std;\n",
        "int solve(int n, int k)\n",
        "{\n",
        "    if (n*(n+1)/2 <= k)\n",
        "        return n;\n",
        "    if (k < 2)\n",
        "        return  k;\n",
        "    int left = 0, right = n, mid;\n",
        "    while (right > left + 1)\n",
        "    {\n",
        "        mid = int(left+right)/2;\n",
        "        if ( mid*(mid+1) <= k*2 && (mid+1)*(mid+2) >k *2 )\n",
        "            return mid;\n",
        "        else if (mid*(mid+1)/2 < k)\n",
        "            left = mid;\n",
        "        else\n",
        "            right = mid;\n",
        "    }\n",
        "    return mid;\n",
        "}\n",
        "int main()\n",
        "{\n",
        "    int t, n,k;\n",
        "    vector<int> res;\n",
        "    cin>>t;\n",
        "    for (int i = 0;i<t;i++)\n",
        "    {\n",
        "        cin>>n>>k;\n",
        "        res.push_back(solve(n,k));\n",
        "    }\n",
        "    for (int i = 0; i<res.size();i++)\n",
        "        cout<<res[i]<<endl;\n",
        "    return 0;\n",
        "}\n"
      ],
      "execution_count": null,
      "outputs": []
    },
    {
      "cell_type": "markdown",
      "metadata": {
        "id": "v3oqsEnY814h"
      },
      "source": [
        "#Problem B:\n",
        "\n",
        "> Problem B Milk Can\n",
        "\n",
        "> Time Limit: 1 seconds Memory Limit: 256 Megabytes\n",
        "\n",
        "\n",
        "Problem description:\n",
        " \n",
        " \n",
        "> A big food company produces canned milk. The can is a round cylinder. They produce various sizes of milk cans. When producing milk cans, the designers of this company always aim to have the lowest cost of raw materials for making cans. That means the total surface area of the can is the smallest. But they expect the volume of the milk can to remain constant, equal to V ml.\n",
        "You are the talented designers here. Calculate the optimal total surface area of the can for your company to spend the least money.\n",
        "Notes: \n",
        "\n",
        ">> ●\tThe volume of cylinder = π*r^2*h cubic units.\n",
        "\n",
        ">> ●\tSurface area of cylinder = 2*π*r^2 +  2*π*r*h.\n",
        "\n",
        "Input: \n",
        "  \n",
        "> The input consists of several test cases. The first line of the input contains the number of test cases T (T ≤ 1000). The following lines describe the test cases. Each test case consists of a positive integer V (V ≤ 1000).\n",
        "\n",
        "Output: \n",
        "\n",
        "> For each test case in the input, print in a single line the smallest surface area with absolute or relative error less than 10−6 that you can achieve\n",
        "\n"
      ]
    },
    {
      "cell_type": "markdown",
      "metadata": {
        "id": "Lp2_Y_rsA6LM"
      },
      "source": [
        "#### Abtraction:\n",
        "- Tính diện tích toàn phần nhỏ nhất của một hình trụ ứng với thể tích là V (V <= 1000)\n",
        "\n",
        "#### Pattern Recognition:\n",
        "- Toán\n",
        "\n",
        "#### Algorithm:\n",
        "- B1: Thiết lập công thức: 6π*(v^2/(4π^2))^(1/3)\n",
        "- B2: Với mỗi V, Sử dụng công thức ở Bước 1.\n",
        "\n",
        "#### Persudacode: \n",
        "\n"
      ]
    },
    {
      "cell_type": "code",
      "metadata": {
        "id": "hXZxzwZODcQv"
      },
      "source": [
        "from math import pi, pow\n",
        "def solve(v):\n",
        "    return 6*pi*pow(v**2/(4.0*pi**2),1.0/3.0)\n",
        "\n",
        "t = int(input())\n",
        "res = []\n",
        "for i in range(t):\n",
        "    v = float(input())\n",
        "    res.append(solve(v))\n",
        "\n",
        "for x in res:\n",
        "    print(f'{x:.6f}')"
      ],
      "execution_count": null,
      "outputs": []
    },
    {
      "cell_type": "markdown",
      "metadata": {
        "id": "9hCwlUyk9GJ0"
      },
      "source": [
        "#Problem C\n",
        "Problem C Beauty Prime Numbers\n",
        "> Time Limit: 1 seconds Memory Limit: 256 Megabytes\n",
        " \n",
        "> The significance of prime numbers, in both everyday applications & as a subtopic pertinent to all branches of math, cannot be overstated. We quietly rely on their special properties to carry the backbone of countless parts of our society — all because they are an irreducible part of the very fabric of nature. Resistant to any further factorization, prime numbers are often referred to as the “atoms” of the applied information technology.\n",
        "\n",
        "> You are the talented programmer, and be asked to write a program to count all beauty prime numbers. A beautiful prime number is defined as a number which sum of all digits in it modulo 10 equals to zero (0).\n",
        "\n",
        "\n",
        "Input: \n",
        "> The input consists two integer numbers (m, n). The first number (m) is the start number which we start to find out these beauty prime numbers. The second number (n) is the amount of prime numbers start from first number, in which we want to find out these beauty prime numbers.\n",
        "0 < m, n <= 10000\n",
        "Output: \n",
        "> For each test case in the input, print out the number of beauty prime numbers which program find out. In case of don’t have any beauty prime number, print out zero value (0).\n"
      ]
    },
    {
      "cell_type": "markdown",
      "metadata": {
        "id": "S53lDyTEA60X"
      },
      "source": [
        "#### Abtraction:\n",
        "- tìm k số nguyên tố mà tổng các chữ số chia hết cho 10  trong n số nguyên tố bắt đầu từ m \n",
        "\n",
        "#### Pattern Recognition:\n",
        "- Toán\n",
        "- Giải thuật sàng nguyên tố\n",
        "\n",
        "#### Algorithm:\n",
        "- Tạo mảng A 2^10 số\n",
        "- Duyệt mảng A lưu các số nguyên tố có trong mảng\n",
        "- Duyệt mảng A, tìm các số nguyên tố thỏa mản đề bài\n",
        "\n",
        "#### Persudacode: \n"
      ]
    },
    {
      "cell_type": "markdown",
      "metadata": {
        "id": "_QPjje8iEjTJ"
      },
      "source": [
        "```\n",
        "#include <bits/stdc++.h>\n",
        "using namespace std;\n",
        "#define MAX int(2e5)\n",
        "\n",
        "int sum_digits(int s)\n",
        "{\n",
        "    int res = 0;\n",
        "    while (s!=0)\n",
        "    {\n",
        "        res += s%10;\n",
        "        s/=10;\n",
        "    }\n",
        "    return res;\n",
        "}\n",
        "int main()\n",
        "{\n",
        "    bool F[MAX];\n",
        "    int Primes[20000];\n",
        "    int i, c = 0,j;\n",
        "    for (int i = 0;i<MAX; i++)\n",
        "        F[i] = true;\n",
        "\n",
        "    for (i = 2; i < MAX ;i++)\n",
        "    {\n",
        "        if (F[i])\n",
        "        {\n",
        "            for (j = 2; i*j < MAX;j++)\n",
        "            F[i*j] = false;\n",
        "            Primes[c++] = i;\n",
        "        }\n",
        "    }\n",
        "    int m,n, pos = 0;\n",
        "    c=0;\n",
        "    cin>>m>>n;\n",
        "    while (Primes[pos] < m)\n",
        "        ++pos;\n",
        "    /*\n",
        "    for (i = pos;i<n+pos;i++)\n",
        "        cout<<Primes[i]<<\" \";\n",
        "    cout<<endl; */\n",
        "    for (i = pos;i<n+pos;i++)\n",
        "    {\n",
        "        if (sum_digits(Primes[i])%10==0)\n",
        "            ++c;\n",
        "    }\n",
        "    cout<<c;\n",
        "    return 0;\n",
        "}\n",
        "\n",
        "```"
      ]
    },
    {
      "cell_type": "markdown",
      "metadata": {
        "id": "bzoZpmqv9up7"
      },
      "source": [
        "#Problem D:\n",
        "Problem D Divisible by 7\n",
        "> Time Limit: 2 seconds Memory Limit: 512 Megabytes\n",
        " \n",
        "> Your task is to write a program that takes an integer as input, reverses its digits, creates the sum of the original integer with its reversed counterpart, and checks if the sum is divisible by 7. If it is, you are done. Otherwise, we repeat the procedure until it does.\n",
        "If it took more than 1,000 iterations, we assume that there is no multiples 7 can be created by using this method with the input number.\n",
        "\n",
        "\n",
        "Input\n",
        "> The first line of the contains the number of datasets, which is not greater than 1000. Each test case contains a positive number N (1 <= N <= 1018 ).\n",
        "\n",
        "Output\n",
        ">For each test, print the final sum that you have found. If there is no answer, print -1.\n",
        "\n"
      ]
    },
    {
      "cell_type": "markdown",
      "metadata": {
        "id": "5DIihmTtA7yK"
      },
      "source": [
        "#### Abtraction:\n",
        "\n",
        "- với số N, tính tổng N và N đảo ngược và lặp lại đến khi chia hết cho 7 \n",
        "\n",
        "#### Pattern Recognition:\n",
        "- Toán\n",
        "- Vét cạn\n",
        "\n",
        "#### Algorithm:\n",
        "- B1: Đảo ngước chữ số N\n",
        "- B2: Tính tổng N và N đảo ngược\n",
        "- B3: kiểm tra tổng vừa nhận được có chia hết cho 7 không\n",
        "- B4: Nếu có xuất tổng vừa nhận được\n",
        "- B5: Nếu không gán N bằng tổng vừa nhận được, lặp lại bước 1\n",
        "\n",
        "#### Persudacode: "
      ]
    },
    {
      "cell_type": "code",
      "metadata": {
        "id": "6zEQbC1JFaiy"
      },
      "source": [
        "def solve(n):\n",
        "    i = 0\n",
        "    if n%7 ==0:\n",
        "        return n\n",
        "\n",
        "    while i<1000:\n",
        "        i+=1\n",
        "        n += int(str(n)[::-1])\n",
        "        if n%7 == 0:\n",
        "            return n\n",
        "    return -1\n",
        "\n",
        "t = int(input())\n",
        "inp = [0]*t\n",
        "for i in range(t):\n",
        "    inp[i] = int(input())\n",
        "for i in inp:\n",
        "    print(solve(i))"
      ],
      "execution_count": null,
      "outputs": []
    },
    {
      "cell_type": "markdown",
      "metadata": {
        "id": "3-7ofOON96wt"
      },
      "source": [
        "#Problem F:\n",
        "Palindrome Counter\n",
        "\n",
        ">Time Limit: 1 seconds Memory Limit: 512 Megabytes\n",
        " \n",
        ">A palindromic number is a number (in some base b) that is the same when written forwards or backwards. The first few palindromic numbers are therefore are\t1, 2, 3, 4, 5, 6, 7, 8, 9, 11,\n",
        "22, 33, 44, 55, 66, 77, 88, 99, 101, 111, 121, ... (rule 1).\n",
        "\n",
        "> In some special cases, 0012100, 00 is a palindromic number. Therefore, 12100, 1210, 00 is also a palindromic number (rule 2).\n",
        "\n",
        ">We can classify positive integers into three categories:\n",
        "\n",
        ">>•\tType 0: numbers that not palindromic number.\n",
        "\n",
        ">>•\tType 1: palindromic numbers according to rule 1.\n",
        "\n",
        ">>•\tType 2: palindromic numbers according to rule 2.\n",
        "\n",
        "> All palindrome that less than or equal to 100 are: 0, 1, 2, 3, 4, 5, 6, 7, 8, 9, 10, 11, 20, 22, 30,\n",
        "33, 40, 44, 50, 55, 60, 66, 70, 77, 80, 88, 90, 99, 100.\n",
        "\n",
        "> Given a number M is a non-negative integer. The function F(M) returns the number of palindromes (including the 2 types: type 1 and type 2) less than or equal to M (0 ≤ M ≤ 1035).\n",
        "\n",
        "|||||||||||\n",
        "| -:- | -:- | -:- |-:- |-:- |-:- |-:- |-:- |-:- |-:- |\n",
        "|M|\t0|\t15|\t39|\t55|\t60|\t85|\t88|\t90|\t100|\n",
        "|F(M) |1\t|12\t|16\t|20\t|21\t|25\t|26\t|27\t|29|\n",
        "\n",
        "> To simplify the problem, given a number N is a non-negative integer, the function P(N) returns the value of F(10N) (0 ≤ N ≤ 35).\n",
        "\n",
        "||||||||||||\n",
        "| -:- | -:- | -:- |-:- |-:- |-:- |-:- |-:- |-:- |-:- |-:- |\n",
        "|N|0|1|2|3|4|...|15|...|35|\n",
        "|P(N)|2|11|\t29|\t137|\t335|\t...\t|144,444,413|\t...\t|1,444,444,444,444,444,373|\n",
        "\n",
        "Task\n",
        "> Given a N positive numbers, your mission is to calculate P(N).\n",
        " \n",
        "\n",
        "Input\n",
        "> •\tOn the first line is the number of test case, 1 ≤ T ≤ 36.\n",
        "> •\tIn the next T lines, each line contains a non-negative integer Ni (1 ≤ i ≤ T, 0 ≤ Ni ≤ 35).\n",
        "\n",
        "Output\n",
        "The result has T lines, the ith line contains the value of P(Ni) (1 ≤ i ≤ T).\n"
      ]
    },
    {
      "cell_type": "markdown",
      "metadata": {
        "id": "dLNc_NNz_HeF"
      },
      "source": [
        "#### Abtraction:\n",
        "Nhập vào n, in ra số lượng số palindrome (loại 1 và loại 2) nhỏ hơn hoặc bằng $10^k$\n",
        "#### Pattern Recognition\n",
        "- Quy hoạch động\n",
        "#### Algorithm:\n",
        "- Gọi \n",
        "    - Dãy A: `A[i] ` là số lượng số palindrome có k chữ số.\n",
        "    - Dãy F: số lượng số palindrome trong nửa khoảng $[1, 10^k)$\n",
        "-\n",
        "- Nhận diện công thức truy hồi.\n",
        "    - Đối với các số palindrome có k chữ số. \n",
        "        - Số loại 1 có dạng: $a_0a_1..a_{i-1}a_ia_{i-1}...a_1a_0$ với $i = int((k-1)/2)$. Có $9*10^i$ số loại 1.\n",
        "        - Với các số loại 2: Là các số palindrome có $k-1$ chữ số nhân 10.\n",
        "    - Kết quả là $F[k]+2$ (vì đã bỏ qua 0 và $10^k$ trong bảng)\n",
        "#### Persudacode:\n",
        "- Khởi tạo:\n",
        "    - `A[0] = 0`\n",
        "    - `F[0] = 0`\n",
        "- Chạy k từ 1 đến 35:\n",
        "    -  `i = int((k-1)/2)`\n",
        "    - `A[k] = 9*10**i`\n",
        "    - `F[k] = F[k-1]+A[k]`\n",
        "- Với mỗi k tương ứng trả về `F[k]`"
      ]
    },
    {
      "cell_type": "code",
      "metadata": {
        "id": "KO8zeEJ4GUqV"
      },
      "source": [
        "A = [0]*40\n",
        "F = [0]*40\n",
        "\n",
        "for i in range(1,36):\n",
        "    k = int('9' + '0'*int((i-1)/2))\n",
        "    A[i] = A[i-1]+k\n",
        "    F[i] = A[i] + F[i-1]\n",
        "# for i in range(36):\n",
        "#     print(f'{i} : {F[i]+2}')\n",
        "\n",
        "inp = []\n",
        "t = int(input())\n",
        "for i in range(t):\n",
        "    inp.append(int(input()))\n",
        "for i in inp:\n",
        "    print(F[i]+2)"
      ],
      "execution_count": null,
      "outputs": []
    },
    {
      "cell_type": "markdown",
      "metadata": {
        "id": "GtoRzlaBGfZZ"
      },
      "source": [
        "#Kết quả của nhóm\n",
        "\n",
        "![Capture-1.jpg](https://i.postimg.cc/Sxwd0P0y/Capture-1.jpg)"
      ]
    }
  ]
}