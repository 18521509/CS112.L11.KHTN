{
  "nbformat": 4,
  "nbformat_minor": 0,
  "metadata": {
    "colab": {
      "name": "W4E1_N003.ipynb",
      "provenance": [],
      "authorship_tag": "ABX9TyMOljXZxD6gox9ANKhaCYI2",
      "include_colab_link": true
    },
    "kernelspec": {
      "name": "python3",
      "display_name": "Python 3"
    }
  },
  "cells": [
    {
      "cell_type": "markdown",
      "metadata": {
        "id": "view-in-github",
        "colab_type": "text"
      },
      "source": [
        "<a href=\"https://colab.research.google.com/github/18521509/CS112.L11.KHTN/blob/master/Week4/W4E1_N003.ipynb\" target=\"_parent\"><img src=\"https://colab.research.google.com/assets/colab-badge.svg\" alt=\"Open In Colab\"/></a>"
      ]
    },
    {
      "cell_type": "markdown",
      "metadata": {
        "id": "Y0Hn2ZwgTifw"
      },
      "source": [
        "##Nhóm 003\n",
        "\n",
        "---\n",
        "\n",
        "\n",
        "- Nguyễn Khánh Toàn - 18521509\n",
        "- Nguyễn Trần Trung - 18521555\n",
        "- Nguyễn Lâm Quỳnh - 18521326\n",
        "\n",
        "![](https://i.postimg.cc/k445hYdx/logo-uit.png)\n"
      ]
    },
    {
      "cell_type": "markdown",
      "metadata": {
        "id": "YUAWHWN0Tr7o"
      },
      "source": [
        "#Đề Bài: ĐỔI MỚI\n",
        "\n",
        "---\n",
        "\n",
        "Thành phố quyết định chặt hạ hết n cây xanh hiện có trong thành phố để trồng chỉ một loại cây mới. Nhiệm vụ được giao cho Công ty Cây xanh thành phố. Do hạn chế về thiết bị Công ty chỉ tổ chức được 2 đội đốn hạ cây. Đội I hạ được $a$ cây mỗi ngày, nhưng cứ mối ngày thứ k thì phải nghỉ để bảo dưỡng kỹ thuật, tức là đội I sẽ nghỉ vào các ngày $k$, $2k$, $3k$, . . . Đội II hạ được $b$ cây mỗi ngày, nhưng cứ mỗi ngày thứ m thì phải nghỉ để bảo dưỡng kỹ thuật, tức là đội II sẽ nghỉ vào các ngày $m$, $2m$, $3m,$ . . . Ở ngày nghỉ, số cây chặt hạ của đội sẽ là 0. Cả hai đội bắt đầu công việc vào cùng một ngày và làm việc song song với nhau.\n",
        "\n",
        "Công việc trồng cây mới sẽ bắt đầu sau khi toàn bộ cây cũ đã bị đốn hạ.\n",
        "\n",
        "Hãy xác định sau bao nhiêu ngày thì có thể bắt đầu việc trồng mới cây.\n",
        "\n",
        "Dữ liệu: Vào từ thiết bị nhập chuẩn gồm một dòng chứa 5 số nguyên $a$, $k$, $b$, $m$ và $n$ $(1 ≤ a, b ≤ 10^{9}, 2 ≤ k, m ≤ 10^{18}, 1 ≤ n ≤ 10^{18})$.\n",
        "\n",
        "Kết quả: Đưa ra thiết bị xuất chuẩn một số nguyên – số ngày tính được.\n",
        "\n",
        "\n",
        " **Ví dụ:**\n",
        "\n",
        "| Input | Output |\n",
        "| -:- | -: |\n",
        "|2 4 3 3 25 | 7 |\n"
      ]
    },
    {
      "cell_type": "markdown",
      "metadata": {
        "id": "KulFcftAUqmA"
      },
      "source": [
        "#Bài làm\n",
        "\n",
        "---\n",
        "\n",
        "##Abstraction\n",
        "\n",
        "- Cho 5 số nguyên $a$, $k$, $b$, $m$ và $n$. Tìm $x$ nhỏ nhất sao cho: $(a+b)*x-a*(x/k) -b*(x/m)>=n$\n",
        "\n",
        "## Pattern Recognition\n",
        "- Toán học\n",
        "- Chặt nhị phân\n",
        "\n",
        "##Algorithm Design: Pseudocode\n",
        "\n",
        "```\n",
        "Input: 5 integer a, k, b, m và n (1 ≤ a, b ≤ 10^9, 2 ≤ k, m ≤ 10^18, 1 ≤ n ≤ 10^18)\n",
        "Output: value x satify condition: (a+b)*x-a*(x/k)-b*(x/m)>=n\n",
        "\n",
        "START:\n",
        "  call f(x) = (a+b)*x-a*(x/k)-b*(x/m)>=n\n",
        "  result <- -1\n",
        "  low_bound <- 0\n",
        "  high_bound <- 1e18\n",
        "  while low_bound <= high_bound then:\n",
        "    mid <- (low_bound+high_bound)/2\n",
        "    if f(mid) equal to True:\n",
        "      result <- mid\n",
        "      high_bound <- mid - 1\n",
        "    end\n",
        "    else:\n",
        "      low_bound <- mid + 1\n",
        "  output(result) \n",
        "\n",
        "END:\n",
        "\n",
        "```\n",
        "\n",
        "## Code\n",
        "Kết quả:\n",
        "\n",
        "![](https://i.postimg.cc/t4210Zw5/s.jpg)"
      ]
    },
    {
      "cell_type": "code",
      "metadata": {
        "id": "qpVeL4s8Tcwy",
        "outputId": "0ad8fdba-dbec-43bf-8644-09754c0b7f13",
        "colab": {
          "base_uri": "https://localhost:8080/",
          "height": 52
        }
      },
      "source": [
        "a,k,b,m,n=map(int,input().split())\n",
        "\n",
        "def f(x):\n",
        "  return (a+b)*x-a*(x//k)-b*(x//m)>=n\n",
        "\n",
        "low=1\n",
        "high=int(1e18)\n",
        "res=0\n",
        "while low<=high:\n",
        "  mid=(low+high)//2\n",
        "  if f(mid):\n",
        "    res=mid\n",
        "    high=mid-1\n",
        "  else:\n",
        "    low=mid+1\n",
        "print(int(res))"
      ],
      "execution_count": 1,
      "outputs": [
        {
          "output_type": "stream",
          "text": [
            "2 4 3 3 25\n",
            "7\n"
          ],
          "name": "stdout"
        }
      ]
    },
    {
      "cell_type": "code",
      "metadata": {
        "id": "1wpmUBsBXwBp"
      },
      "source": [
        ""
      ],
      "execution_count": null,
      "outputs": []
    }
  ]
}