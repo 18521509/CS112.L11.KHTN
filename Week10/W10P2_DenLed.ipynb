{
  "nbformat": 4,
  "nbformat_minor": 0,
  "metadata": {
    "colab": {
      "name": "W10P2_DenLed.ipynb",
      "provenance": [],
      "collapsed_sections": [],
      "authorship_tag": "ABX9TyMPQIqKBi0zkICMlex4s0Ih",
      "include_colab_link": true
    },
    "kernelspec": {
      "name": "python3",
      "display_name": "Python 3"
    }
  },
  "cells": [
    {
      "cell_type": "markdown",
      "metadata": {
        "id": "view-in-github",
        "colab_type": "text"
      },
      "source": [
        "<a href=\"https://colab.research.google.com/github/18521509/CS112.L11.KHTN/blob/master/Week10/W10P2_DenLed.ipynb\" target=\"_parent\"><img src=\"https://colab.research.google.com/assets/colab-badge.svg\" alt=\"Open In Colab\"/></a>"
      ]
    },
    {
      "cell_type": "markdown",
      "metadata": {
        "id": "XqlmxZ0yitrf"
      },
      "source": [
        "##Nhóm 003\r\n",
        "\r\n",
        "---\r\n",
        "\r\n",
        "\r\n",
        "\r\n",
        "---\r\n",
        "\r\n",
        "\r\n",
        "- Nguyễn Khánh Toàn - 18521509\r\n",
        "- Nguyễn Trần Trung - 18521555\r\n",
        "- Nguyễn Lâm Quỳnh - 18521326\r\n",
        "\r\n",
        "![](https://i.postimg.cc/k445hYdx/logo-uit.png)\r\n"
      ]
    },
    {
      "cell_type": "markdown",
      "metadata": {
        "id": "MXiYbHAXiwLO"
      },
      "source": [
        "# **Bài 1. Đèn led**\r\n",
        "-----\r\n",
        "\r\n",
        "## **Đề bài**\r\n",
        "----\r\n",
        "> Alice vừa hoàn thành một hợp đồng lắp bảng hiển thị số bằng đèn LED. Mỗi chữ số được hiển thị trong một khung chữ nhật với 7 ống đèn LED. Bằng cách bật các ống đèn LED thích hợp ta có thể hiển thị chữ số bất kỳ. Số đèn sáng càng nhiều thì việc hiển thị chữ số đó càng tốn năng lượng. Ví dụ, hiển thị chữ số 9 sẽ tốn năng lượng hơn hiển thị chữ số 7.\r\n",
        "\r\n",
        "> Sau khi bàn giao sản phẩm trong tay Alice còn thừa lại một số khá nhiều các khung hiển thị số và một cục pin nguồn. Dung lượng pin cho phép bật sáng ***n*** ống đèn LED. Alice muốn dùng pin bật đúng ***n*** ống đèn để hiển thị một số và số hiển thị được phải có tổng chữ số là lớn nhất.\r\n",
        "\r\n",
        "Hãy xác định tổng lớn nhất của các chữ số của số có thể bật sáng.\r\n",
        "\r\n",
        "**Dữ liệu:** \r\n",
        "\r\n",
        "> Vào từ thiết bị nhập chuẩn gồm một dòng chứa số nguyên ***n*** (2 ≤ ***n*** ≤ $10^6$). \r\n",
        "\r\n",
        "**Kết quả:** \r\n",
        "\r\n",
        "> Đưa ra thiết bị xuất chuẩn một số nguyên – tổng lớn nhất đạt được.\r\n",
        "\r\n",
        "**Dữ liệu mẫu**:\r\n",
        "\r\n",
        "\\begin{array}{|c|c|}\r\n",
        "Input&Output\\\\ \\hline\r\n",
        "7 & 11\r\n",
        "\\end{array}\r\n",
        "\r\n",
        "## **1. Tóm tắt bài toán**\r\n",
        "\r\n",
        "Cho **_n_** que diêm, xác định tổng lớn nhất của các số được tạo từ ***n*** que diêm.\r\n",
        "\r\n",
        "## **2. Nhận diện khuôn mẫu**\r\n",
        "-----\r\n",
        "> Với các trường hợp ***n*** nhỏ, ta có các kết quả sau:\r\n",
        "\\begin{array}{|c|c|}\r\n",
        "Input&Output\\\\ \\hline\r\n",
        "2 & 1 \\\\\r\n",
        "3 & 7 \\\\\r\n",
        "4 & 4 \\\\\r\n",
        "5 & 8 \\\\\r\n",
        "6 & 14 \\\\\r\n",
        "7 & 11 \\\\\r\n",
        "8 & 15 \\\\\r\n",
        "9 & 21 \r\n",
        "\\end{array}\r\n",
        "\r\n",
        "> Ta để ý rằng, chỉ với 3 que diêm ta được 1 số 7. Theo cảm giác thì số 7 có lẽ là lựa chọn tốt nhất để đầu tư que diêm cho nó, để đạt được tổng là lớn nhất. \r\n",
        "\r\n",
        ">Vậy thuật toán chúng ta sẽ \"tham lam\" lựa chọn càng nhiều số 7 càng tốt.\r\n",
        "\r\n",
        "## **3. Thiết kế thuật toán**\r\n",
        "-----\r\n",
        "\r\n",
        "\r\n",
        "\r\n",
        "> Với ***n*** chia hết cho 3, tổng lớn nhất sẽ là $\\frac{n}{3}*7$\r\n",
        "\r\n",
        "> Với ***n*** chia 3 dư 2, 2 que diêm dư ấy sẽ tạo thành số 1. Khi đó tổng lớn nhất sẽ là $\\frac{n}{3}*7+1$\r\n",
        "\r\n",
        "> Với ***n*** chia 3 dư 1, 1 que diêm không thể tạo thành số gì. Vì vậy ta sẽ lấy bớt 3 diêm tạo thành số 7 để tạo thành số 4. Khi đó tổng lớn nhất sẽ là $\\frac{n-3}{3}*7+4$\r\n",
        "\r\n",
        "## **4. Thực hiện**\r\n",
        "-----"
      ]
    },
    {
      "cell_type": "code",
      "metadata": {
        "id": "9gx7z6gmjEon"
      },
      "source": [
        "n = int(input())\r\n",
        "\r\n",
        "mod = n%3\r\n",
        "if mod == 1:\r\n",
        "    print(7*(n//3 - 1) + 4)\r\n",
        "elif mod == 0:\r\n",
        "    print(7*(n//3))\r\n",
        "elif mod == 2:\r\n",
        "    print(7*(n//3) +  1)"
      ],
      "execution_count": null,
      "outputs": []
    }
  ]
}