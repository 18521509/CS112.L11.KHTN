{
  "nbformat": 4,
  "nbformat_minor": 0,
  "metadata": {
    "colab": {
      "name": "W10E1_N003_DenLed",
      "provenance": [],
      "collapsed_sections": [],
      "authorship_tag": "ABX9TyM9NXphQOKZ3I/b2x+TuDtV",
      "include_colab_link": true
    },
    "kernelspec": {
      "name": "python3",
      "display_name": "Python 3"
    }
  },
  "cells": [
    {
      "cell_type": "markdown",
      "metadata": {
        "id": "view-in-github",
        "colab_type": "text"
      },
      "source": [
        "<a href=\"https://colab.research.google.com/github/18521509/CS112.L11.KHTN/blob/master/Week10/W10E1_N003_DenLed.ipynb\" target=\"_parent\"><img src=\"https://colab.research.google.com/assets/colab-badge.svg\" alt=\"Open In Colab\"/></a>"
      ]
    },
    {
      "cell_type": "markdown",
      "metadata": {
        "id": "Q2RacUHwc4PB"
      },
      "source": [
        "##Nhóm 003\r\n",
        "\r\n",
        "---\r\n",
        "\r\n",
        "\r\n",
        "- Nguyễn Khánh Toàn - 18521509\r\n",
        "- Nguyễn Trần Trung - 18521555\r\n",
        "- Nguyễn Lâm Quỳnh - 18521326\r\n",
        "\r\n",
        "![](https://i.postimg.cc/k445hYdx/logo-uit.png)"
      ]
    },
    {
      "cell_type": "markdown",
      "metadata": {
        "id": "-8o1GOSQfNAA"
      },
      "source": [
        "Đề bài: ĐÈN LED\r\n",
        "\r\n",
        "Alice vừa hoàn thành một hợp đồng lắp bảng hiển thị số bằng đèn LED. Mỗi chữ số được hiển thị trong một khung chữ nhật với 7 ống đèn LED. Bằng cách bật các ống đèn LED thích hợp ta có thể hiển thị chữ số bất kỳ. Số đèn sáng càng nhiều thì việc hiển thị chữ số đó càng tốn năng lượng. Ví dụ, hiển thị chữ số 9 sẽ tốn năng lượng hơn hiển thị chữ số 7.\r\n",
        "[![image.png](https://i.postimg.cc/0NJRLphc/image.png)](https://postimg.cc/McxFBj6Q)\r\n",
        "\r\n",
        "\r\n",
        "Sau khi bàn giao sản phẩm trong tay Alice còn thừa lại một số khá nhiều các khung hiển thị số và một cục pin nguồn. Dung lượng pin cho phép bật sáng n ống đèn LED. Alice muốn dùng pin bật đúng n ống đèn để hiển thị một số và số hiển thị được phải có tổng chữ số là lớn nhất.\r\n",
        "\r\n",
        "Hãy xác định tổng lớn nhất của các chữ số của số có thể bật sáng.\r\n",
        "\r\n",
        "Dữ liệu: Vào từ thiết bị nhập chuẩn gồm một dòng chứa số nguyên n (2 ≤ n ≤ 106).\r\n",
        "\r\n",
        "Kết quả: Đưa ra thiết bị xuất chuẩn một số nguyên – tổng lớn nhất đạt được.\r\n",
        "\r\n",
        "Ví dụ:\r\n",
        "\r\n",
        "INPUT: 7\r\n",
        "\r\n",
        "OUTPUT: 11\r\n"
      ]
    },
    {
      "cell_type": "markdown",
      "metadata": {
        "id": "ozsa2dzGdi8A"
      },
      "source": [
        "#Bài làm:"
      ]
    },
    {
      "cell_type": "markdown",
      "metadata": {
        "id": "0UeYJzkwdmvo"
      },
      "source": [
        "##Ý Tưởng:\r\n",
        "- Để thu được tổng lớn nhất thì chúng ta phải sử dụng các ống led một cách hiệu quả nhất. \r\n",
        "- Chúng ta phải sử dụng ống tạo thành các số sao cho tỉ lệ giữa giá trị tạo ra và số ống led cần là lớn nhất. Chúng ta thấy số 7 có tỉ lệ lớn nhất (7/3).\r\n",
        "- Vì thế chúng ta sử dụng ống để tạo được nhiều số  7 nhất có thể. Xử lý một số ngoại lệ để đảm bảo các ống led được sử dụng hết.\r\n",
        "\r\n",
        "##Code:\r\n",
        "\r\n",
        "\r\n",
        "```\r\n",
        "d = {2:1, 3:7, 4:4, 5:8,6:14,7:11,8:15,9:21}\r\n",
        "n = int(input())\r\n",
        "s = 0\r\n",
        "if n > 9:\r\n",
        "    k = n//3\r\n",
        "    s = (k-2)*7\r\n",
        "    n = n - 3*(k-2)\r\n",
        "s += d[n]\r\n",
        "print(s)\r\n",
        "```\r\n",
        "\r\n",
        "##Kết quả:\r\n",
        "[![image.png](https://i.postimg.cc/QMPN7NZn/image.png)](https://postimg.cc/WDGPLv3M)"
      ]
    },
    {
      "cell_type": "code",
      "metadata": {
        "id": "mkQ3ytBdcu2h"
      },
      "source": [
        ""
      ],
      "execution_count": null,
      "outputs": []
    }
  ]
}